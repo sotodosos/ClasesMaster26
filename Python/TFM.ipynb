{
 "cells": [
  {
   "cell_type": "markdown",
   "metadata": {},
   "source": [
    "# Produccion eléctrica en base a la metereología\n",
    "\n",
    "La idea principal del trabajo es ser capaces de predecir como va a afectar a la produccion eléctrica de energias renovables y no renovables las precipitaciones, el viento y las horas de sol.\n",
    "Como las horas de sol y el viento son fenomenos cuya causa efecto en principio es prácticamente inmediato, también vamos a centrarnos en la produccion de energia hidroelectrica para poder medir cuanto tiempo tarda en afectar a este tipo de energía las precipitaciones..\n",
    "\n",
    "En base a esto tenemos varias cuestiones que queremos despejar:\n",
    "- Que relación hay entre precipitaciones y el aumento de la generación de energia eléctrica hidráulica.\n",
    "- Que relación hay entre horas de sol, temperatura y el aumento de la generación de energia eléctrica sólar.\n",
    "- Que relación hay entre viento y el aumento de la generación de energia eléctrica eólica, esta relación esta condicionada por la temperatura, percipitaciones o horas de sol.\n",
    "- Cuantos días tarda en aumentar la generación eléctrica de fuentes de energía renovables en función de los fenomenos metereológicos.\n",
    "- Dados una prediccion meteorologica que valores de generación eléctrica tendremos para una fecha determinada.\n",
    "\n",
    "\n",
    "\n",
    "Como premisas partimos de :\n",
    "- Vamos a considerar solo el poll de energia que proporciona Red Electrica de España (REE)\n",
    "- Vamos a considerar que las empresas no trabajan bajo mala praxis y que intentan optimizar el uso de energias renovables.\n",
    "- Debido a la falta de datos a nivel diario de REE por provincia o comunidades autonomas, voy a centrar el analisis a nivel de sistema eléctrico (Peninsula, Baleares, Canarias ,Ceuta y Melilla).\n",
    "\n",
    "Como origenes de datos para el estudio vamos a utilizar los datos proporcionados por:\n",
    "- Información de REE (https://www.ree.es/es/apidatos) obtenida mediante su API.\n",
    "- Datos proporcionados por aemet(https://opendata.aemet.es/centrodedescargas/inicio), vamos a utilizar la libreria  aemet desarrollada por Pablo Moreno (https://pypi.org/project/python-aemet/).\n",
    "\n",
    "Requisitos para la ejecución del notebook:\n",
    "\n",
    "Como requisitos para la ejecución del proyecto es necesario la instalación de la libreria python Aemet(pip install python-aemet) e instalar la libreria request.\n",
    "\n",
    "Además las versiones de cada libreria utilizada en este proyecto son:\n",
    "\n",
    "El modelo ha utilizar al tratarse de una prediccion númerica y no de obtener una etiqueta, sera una regresión.\n",
    "Para poder llevar a cabo esa regresion se han pasado los valores de fechas a númericos, y se ha creado una columna por cada tipo de energia, creando varias variables objetivo.\n",
    "\n"
   ]
  },
  {
   "cell_type": "code",
   "execution_count": 1,
   "metadata": {},
   "outputs": [],
   "source": [
    "from aemet import Aemet,Estacion\n",
    "import pandas as pd\n",
    "import numpy as np\n",
    "import scipy as sp\n",
    "import matplotlib.pyplot as plt\n",
    "import json\n",
    "import requests\n",
    "import time\n",
    "\n",
    "pd.options.display.max_columns=None\n"
   ]
  },
  {
   "cell_type": "markdown",
   "metadata": {},
   "source": [
    "###  Lectura datos AEMET\n",
    "\n",
    "Para la lectura de datos metereólogicos, vamos a utilizar la libreria aemet, de la que utilizaremos los metodos de las clases Aemet y Estacion para obtener los datos a nivel diario de cada estación meterologica para un rago de fechas, de las provincias que nos interesan para el estudio."
   ]
  },
  {
   "cell_type": "code",
   "execution_count": 2,
   "metadata": {},
   "outputs": [],
   "source": [
    "# Leemos la clave de la API de AEMET desde un fichero ubicado en el directorio ../API que este notebook\n",
    "\n",
    "with open('../API/API_KEY_AEMET','r') as file:\n",
    "    API_KEY_AE=file.read()\n",
    "\n",
    "\n",
    "# Obtenemos el json de estaciones de mediciones de aemet \n",
    "info_estaciones=Estacion.get_estaciones(API_KEY_AE)\n",
    "\n",
    "# Creamos un objeto Aemet para usar los metodos de la libreria aemet\n",
    "aemet=Aemet(API_KEY_AE);"
   ]
  },
  {
   "cell_type": "code",
   "execution_count": 3,
   "metadata": {},
   "outputs": [],
   "source": [
    "from tqdm import tqdm_notebook as tqdm\n",
    "\n",
    "# Definimos funciones que vamos a utilizar para leer los datos de AEMET\n",
    "def estaciones_prov (lista_estaciones):\n",
    "    '''Dada una lista de provincias y un json de estaciones de aemet. \n",
    "    Obtiene una lista de los ID de las estaciones de esa provincia.'''\n",
    "    \n",
    "    lista_id=[]\n",
    "    print('Reading list of id of weather stations...')\n",
    "    for estacion in tqdm(lista_estaciones):\n",
    "            lista_id.append(estacion['indicativo'])\n",
    "            \n",
    "    return lista_id\n",
    "\n",
    "\n",
    "\n",
    "def lectura_diaria_lista(date_ini,date_end,lista_estaciones):\n",
    "    '''Dado una lista de id de estaciones de aemet, y fechas de inicio y fin:\n",
    "    Obtenemos los datos climatologicos entre las dos fechas para todas las estaciones de manera diaria\n",
    "    Si la fecha de inicio es anterior a 2016, se cambia a 2016-01-01, para evitar errores.\n",
    "    '''\n",
    "    valores_diarios=[]\n",
    "    if date_ini[0:4]<'2016':\n",
    "        date_ini=\"2016-01-01T00:00:00UTC\"\n",
    "        \n",
    "    if date_ini>date_end:\n",
    "        print('Valores no válidos, fecha de inicio mayor que la fecha de fin')\n",
    "        return valores_diarios;\n",
    "    \n",
    "    print(\"Reading AEMET data from %s to %s ...\" % (date_ini,date_end))\n",
    "    \n",
    "    for element in lista_estaciones:\n",
    "        try:\n",
    "            valores_estacion=aemet.get_valores_climatologicos_diarios(date_ini,date_end,element)\n",
    "            if type(valores_estacion)!=dict:\n",
    "                valores_diarios.extend(valores_estacion)\n",
    "        except:\n",
    "            time.sleep(56) # para evitar errores por nº de lecturas.\n",
    "            try:\n",
    "                valores_estacion=aemet.get_valores_climatologicos_diarios(date_ini,date_end,element)\n",
    "                if type(valores_estacion)!=dict:\n",
    "                    valores_diarios.extend(valores_estacion)\n",
    "            except:\n",
    "                print('Valor no encontrado')\n",
    "                \n",
    "    return valores_diarios;"
   ]
  },
  {
   "cell_type": "code",
   "execution_count": 4,
   "metadata": {},
   "outputs": [],
   "source": [
    "date_ini=\"2016-01-01T00:00:00UTC\"\n",
    "date_end=\"2021-02-28T00:00:00UTC\"\n",
    "\n",
    "year_ini=int(date_ini[0:4])\n",
    "year_fin=int(date_end[0:4])\n",
    "\n",
    "\n"
   ]
  },
  {
   "cell_type": "code",
   "execution_count": 5,
   "metadata": {
    "scrolled": true
   },
   "outputs": [
    {
     "name": "stdout",
     "output_type": "stream",
     "text": [
      "Reading list of id of weather stations...\n"
     ]
    },
    {
     "data": {
      "application/vnd.jupyter.widget-view+json": {
       "model_id": "efc83c8a97b341f1a838cd456b4734ad",
       "version_major": 2,
       "version_minor": 0
      },
      "text/plain": [
       "HBox(children=(IntProgress(value=0, max=291), HTML(value='')))"
      ]
     },
     "metadata": {},
     "output_type": "display_data"
    },
    {
     "name": "stdout",
     "output_type": "stream",
     "text": [
      "\n"
     ]
    },
    {
     "data": {
      "application/vnd.jupyter.widget-view+json": {
       "model_id": "7aa9dd4a22e841c29ae6346ab3a5c24d",
       "version_major": 2,
       "version_minor": 0
      },
      "text/plain": [
       "HBox(children=(IntProgress(value=0, max=6), HTML(value='')))"
      ]
     },
     "metadata": {},
     "output_type": "display_data"
    },
    {
     "name": "stdout",
     "output_type": "stream",
     "text": [
      "Reading AEMET data from 2016-01-01T00:00:00UTC to 2016-12-31T00:00:00UTC ...\n",
      "Reading AEMET data from 2017-01-01T00:00:00UTC to 2017-12-31T00:00:00UTC ...\n",
      "Reading AEMET data from 2018-01-01T00:00:00UTC to 2018-12-31T00:00:00UTC ...\n",
      "Reading AEMET data from 2019-01-01T00:00:00UTC to 2019-12-31T00:00:00UTC ...\n",
      "Reading AEMET data from 2020-01-01T00:00:00UTC to 2020-12-31T00:00:00UTC ...\n",
      "Reading AEMET data from 2021-01-01T00:00:00UTC to 2021-02-28T00:00:00UTC ...\n",
      "\n",
      "Finish reading AEMET date from 2016-01-01 to 2021-02-24\n"
     ]
    }
   ],
   "source": [
    "id_estaciones=estaciones_prov(info_estaciones)\n",
    "\n",
    "df_weather=pd.DataFrame()\n",
    "for i in tqdm(np.arange(year_ini,year_fin+1)):\n",
    "    if i==year_ini:\n",
    "        inicio=date_ini\n",
    "        fin=str(i)+\"-12-31T00:00:00UTC\"\n",
    "        \n",
    "    elif i==year_fin:\n",
    "        inicio=str(i)+\"-01-01T00:00:00UTC\"\n",
    "        fin=date_end\n",
    "        \n",
    "    else:\n",
    "        inicio=str(i)+\"-01-01T00:00:00UTC\"\n",
    "        fin=str(i)+\"-12-31T00:00:00UTC\"\n",
    "        \n",
    "    df_weather=df_weather.append(pd.DataFrame(lectura_diaria_lista(inicio,fin,id_estaciones),dtype=str))\n",
    "    \n",
    "print('Finish reading AEMET date from %s to %s' % (df_weather['fecha'].min(),df_weather['fecha'].max()) )"
   ]
  },
  {
   "cell_type": "markdown",
   "metadata": {},
   "source": [
    "### Limpieza datos AEMET"
   ]
  },
  {
   "cell_type": "code",
   "execution_count": 6,
   "metadata": {},
   "outputs": [],
   "source": [
    "''' Creo una funcion que pase los indicadores a float \n",
    "y rellene los valores vacios por la media de las estaciones de esa provincia para ese dia'''\n",
    "\n",
    "def rellena_nulos_provincia(df,cols):\n",
    "    # Defino un DataFrame vacio para acumular el resultado\n",
    "    df_all=pd.DataFrame()\n",
    "    \n",
    "    # Hago un bucle para cada provincia del DataFrame de entrada\n",
    "    for prov in df['provincia'].unique():\n",
    "        df_prov=df[df['provincia']==prov].copy()\n",
    "        \n",
    "        #Para cada elemento de las columnas que nos interesan reemplazo , por ., paso a numerico y relleno los nulos por la media de la provincia\n",
    "        for element in cols:\n",
    "            df_prov[element]=df_prov[element].str.replace(',', '.')\n",
    "            df_prov[element]=pd.to_numeric(df_prov[element],errors='coerce')\n",
    "            df_prov[element].fillna(df_prov[element].mean(skipna=True),inplace=True)\n",
    "        df_all=df_all.append(df_prov)\n",
    "    return df_all\n"
   ]
  },
  {
   "cell_type": "code",
   "execution_count": 7,
   "metadata": {},
   "outputs": [],
   "source": [
    "df_aux=df_weather.copy()"
   ]
  },
  {
   "cell_type": "code",
   "execution_count": 8,
   "metadata": {},
   "outputs": [],
   "source": [
    "# Elimino las columnas que no me interesan\n",
    "df_weather.drop(columns=['altitud','horaPresMax','horaPresMin','horaracha','dir','horatmin','horatmax','racha'],inplace=True)\n",
    "\n",
    "# Limpio de nulos la muestra\n",
    "df_weather=rellena_nulos_provincia(df_weather,df_weather.columns[5:])\n"
   ]
  },
  {
   "cell_type": "code",
   "execution_count": 11,
   "metadata": {},
   "outputs": [],
   "source": [
    "electric_systems={\n",
    "    'STA. CRUZ DE TENERIFE':'canarias',\n",
    "    'LAS PALMAS':'canarias',\n",
    "    'ILLES BALEARS':'baleares',\n",
    "    'CEUTA':'ceuta',\n",
    "    'MELILLA':'melilla'}"
   ]
  },
  {
   "cell_type": "code",
   "execution_count": 13,
   "metadata": {},
   "outputs": [],
   "source": [
    "# Ahora que ya tienen el mismo peso cada provincia, agrupo por sistema eléctrico.\n",
    "\n",
    "df_weather['system']=[electric_systems[l.upper()]  \n",
    "                      if l.upper() in electric_systems.keys() else 'peninsular' \n",
    "                      for l in df_weather['provincia'] ]"
   ]
  },
  {
   "cell_type": "code",
   "execution_count": 9,
   "metadata": {},
   "outputs": [
    {
     "data": {
      "text/html": [
       "<div>\n",
       "<style scoped>\n",
       "    .dataframe tbody tr th:only-of-type {\n",
       "        vertical-align: middle;\n",
       "    }\n",
       "\n",
       "    .dataframe tbody tr th {\n",
       "        vertical-align: top;\n",
       "    }\n",
       "\n",
       "    .dataframe thead th {\n",
       "        text-align: right;\n",
       "    }\n",
       "</style>\n",
       "<table border=\"1\" class=\"dataframe\">\n",
       "  <thead>\n",
       "    <tr style=\"text-align: right;\">\n",
       "      <th></th>\n",
       "      <th>fecha</th>\n",
       "      <th>indicativo</th>\n",
       "      <th>nombre</th>\n",
       "      <th>provincia</th>\n",
       "      <th>altitud</th>\n",
       "      <th>tmed</th>\n",
       "      <th>prec</th>\n",
       "      <th>tmin</th>\n",
       "      <th>horatmin</th>\n",
       "      <th>tmax</th>\n",
       "      <th>horatmax</th>\n",
       "      <th>dir</th>\n",
       "      <th>velmedia</th>\n",
       "      <th>racha</th>\n",
       "      <th>horaracha</th>\n",
       "      <th>sol</th>\n",
       "      <th>presMax</th>\n",
       "      <th>horaPresMax</th>\n",
       "      <th>presMin</th>\n",
       "      <th>horaPresMin</th>\n",
       "    </tr>\n",
       "  </thead>\n",
       "  <tbody>\n",
       "    <tr>\n",
       "      <th>0</th>\n",
       "      <td>2016-01-01</td>\n",
       "      <td>0252D</td>\n",
       "      <td>ARENYS DE MAR</td>\n",
       "      <td>BARCELONA</td>\n",
       "      <td>74</td>\n",
       "      <td>11,2</td>\n",
       "      <td>0,2</td>\n",
       "      <td>7,8</td>\n",
       "      <td>06:20</td>\n",
       "      <td>14,7</td>\n",
       "      <td>12:40</td>\n",
       "      <td>24</td>\n",
       "      <td>1,7</td>\n",
       "      <td>7,2</td>\n",
       "      <td>14:00</td>\n",
       "      <td>NaN</td>\n",
       "      <td>NaN</td>\n",
       "      <td>NaN</td>\n",
       "      <td>NaN</td>\n",
       "      <td>NaN</td>\n",
       "    </tr>\n",
       "    <tr>\n",
       "      <th>1</th>\n",
       "      <td>2016-01-02</td>\n",
       "      <td>0252D</td>\n",
       "      <td>ARENYS DE MAR</td>\n",
       "      <td>BARCELONA</td>\n",
       "      <td>74</td>\n",
       "      <td>11,8</td>\n",
       "      <td>0,0</td>\n",
       "      <td>7,5</td>\n",
       "      <td>23:40</td>\n",
       "      <td>16,1</td>\n",
       "      <td>13:10</td>\n",
       "      <td>24</td>\n",
       "      <td>1,1</td>\n",
       "      <td>9,7</td>\n",
       "      <td>11:40</td>\n",
       "      <td>NaN</td>\n",
       "      <td>NaN</td>\n",
       "      <td>NaN</td>\n",
       "      <td>NaN</td>\n",
       "      <td>NaN</td>\n",
       "    </tr>\n",
       "    <tr>\n",
       "      <th>2</th>\n",
       "      <td>2016-01-03</td>\n",
       "      <td>0252D</td>\n",
       "      <td>ARENYS DE MAR</td>\n",
       "      <td>BARCELONA</td>\n",
       "      <td>74</td>\n",
       "      <td>10,0</td>\n",
       "      <td>0,0</td>\n",
       "      <td>5,8</td>\n",
       "      <td>05:50</td>\n",
       "      <td>14,1</td>\n",
       "      <td>13:20</td>\n",
       "      <td>24</td>\n",
       "      <td>1,9</td>\n",
       "      <td>9,2</td>\n",
       "      <td>16:00</td>\n",
       "      <td>NaN</td>\n",
       "      <td>NaN</td>\n",
       "      <td>NaN</td>\n",
       "      <td>NaN</td>\n",
       "      <td>NaN</td>\n",
       "    </tr>\n",
       "    <tr>\n",
       "      <th>3</th>\n",
       "      <td>2016-01-04</td>\n",
       "      <td>0252D</td>\n",
       "      <td>ARENYS DE MAR</td>\n",
       "      <td>BARCELONA</td>\n",
       "      <td>74</td>\n",
       "      <td>11,6</td>\n",
       "      <td>0,9</td>\n",
       "      <td>8,0</td>\n",
       "      <td>22:50</td>\n",
       "      <td>15,3</td>\n",
       "      <td>10:10</td>\n",
       "      <td>32</td>\n",
       "      <td>0,8</td>\n",
       "      <td>8,9</td>\n",
       "      <td>02:40</td>\n",
       "      <td>NaN</td>\n",
       "      <td>NaN</td>\n",
       "      <td>NaN</td>\n",
       "      <td>NaN</td>\n",
       "      <td>NaN</td>\n",
       "    </tr>\n",
       "    <tr>\n",
       "      <th>4</th>\n",
       "      <td>2016-01-05</td>\n",
       "      <td>0252D</td>\n",
       "      <td>ARENYS DE MAR</td>\n",
       "      <td>BARCELONA</td>\n",
       "      <td>74</td>\n",
       "      <td>9,9</td>\n",
       "      <td>0,1</td>\n",
       "      <td>5,6</td>\n",
       "      <td>23:59</td>\n",
       "      <td>14,2</td>\n",
       "      <td>12:30</td>\n",
       "      <td>32</td>\n",
       "      <td>2,5</td>\n",
       "      <td>8,6</td>\n",
       "      <td>17:30</td>\n",
       "      <td>NaN</td>\n",
       "      <td>NaN</td>\n",
       "      <td>NaN</td>\n",
       "      <td>NaN</td>\n",
       "      <td>NaN</td>\n",
       "    </tr>\n",
       "    <tr>\n",
       "      <th>...</th>\n",
       "      <td>...</td>\n",
       "      <td>...</td>\n",
       "      <td>...</td>\n",
       "      <td>...</td>\n",
       "      <td>...</td>\n",
       "      <td>...</td>\n",
       "      <td>...</td>\n",
       "      <td>...</td>\n",
       "      <td>...</td>\n",
       "      <td>...</td>\n",
       "      <td>...</td>\n",
       "      <td>...</td>\n",
       "      <td>...</td>\n",
       "      <td>...</td>\n",
       "      <td>...</td>\n",
       "      <td>...</td>\n",
       "      <td>...</td>\n",
       "      <td>...</td>\n",
       "      <td>...</td>\n",
       "      <td>...</td>\n",
       "    </tr>\n",
       "    <tr>\n",
       "      <th>13119</th>\n",
       "      <td>2021-02-20</td>\n",
       "      <td>C429I</td>\n",
       "      <td>TENERIFE SUR AEROPUERTO</td>\n",
       "      <td>STA. CRUZ DE TENERIFE</td>\n",
       "      <td>64</td>\n",
       "      <td>18,8</td>\n",
       "      <td>0,1</td>\n",
       "      <td>14,2</td>\n",
       "      <td>02:45</td>\n",
       "      <td>23,4</td>\n",
       "      <td>14:00</td>\n",
       "      <td>99</td>\n",
       "      <td>11,7</td>\n",
       "      <td>22,2</td>\n",
       "      <td>Varias</td>\n",
       "      <td>5,5</td>\n",
       "      <td>1009,6</td>\n",
       "      <td>00</td>\n",
       "      <td>1002,8</td>\n",
       "      <td>17</td>\n",
       "    </tr>\n",
       "    <tr>\n",
       "      <th>13120</th>\n",
       "      <td>2021-02-21</td>\n",
       "      <td>C429I</td>\n",
       "      <td>TENERIFE SUR AEROPUERTO</td>\n",
       "      <td>STA. CRUZ DE TENERIFE</td>\n",
       "      <td>64</td>\n",
       "      <td>19,2</td>\n",
       "      <td>0,0</td>\n",
       "      <td>15,9</td>\n",
       "      <td>07:51</td>\n",
       "      <td>22,5</td>\n",
       "      <td>Varias</td>\n",
       "      <td>99</td>\n",
       "      <td>3,9</td>\n",
       "      <td>10,8</td>\n",
       "      <td>Varias</td>\n",
       "      <td>9,6</td>\n",
       "      <td>1013,0</td>\n",
       "      <td>Varias</td>\n",
       "      <td>1004,1</td>\n",
       "      <td>01</td>\n",
       "    </tr>\n",
       "    <tr>\n",
       "      <th>13121</th>\n",
       "      <td>2021-02-22</td>\n",
       "      <td>C429I</td>\n",
       "      <td>TENERIFE SUR AEROPUERTO</td>\n",
       "      <td>STA. CRUZ DE TENERIFE</td>\n",
       "      <td>64</td>\n",
       "      <td>17,9</td>\n",
       "      <td>0,0</td>\n",
       "      <td>14,7</td>\n",
       "      <td>05:45</td>\n",
       "      <td>21,1</td>\n",
       "      <td>12:25</td>\n",
       "      <td>12</td>\n",
       "      <td>3,3</td>\n",
       "      <td>7,2</td>\n",
       "      <td>11:56</td>\n",
       "      <td>5,3</td>\n",
       "      <td>1015,7</td>\n",
       "      <td>Varias</td>\n",
       "      <td>1011,7</td>\n",
       "      <td>05</td>\n",
       "    </tr>\n",
       "    <tr>\n",
       "      <th>13122</th>\n",
       "      <td>2021-02-23</td>\n",
       "      <td>C429I</td>\n",
       "      <td>TENERIFE SUR AEROPUERTO</td>\n",
       "      <td>STA. CRUZ DE TENERIFE</td>\n",
       "      <td>64</td>\n",
       "      <td>19,0</td>\n",
       "      <td>0,0</td>\n",
       "      <td>14,6</td>\n",
       "      <td>05:09</td>\n",
       "      <td>23,4</td>\n",
       "      <td>13:39</td>\n",
       "      <td>99</td>\n",
       "      <td>6,9</td>\n",
       "      <td>12,5</td>\n",
       "      <td>Varias</td>\n",
       "      <td>9,5</td>\n",
       "      <td>1016,4</td>\n",
       "      <td>Varias</td>\n",
       "      <td>1013,8</td>\n",
       "      <td>06</td>\n",
       "    </tr>\n",
       "    <tr>\n",
       "      <th>13123</th>\n",
       "      <td>2021-02-24</td>\n",
       "      <td>C429I</td>\n",
       "      <td>TENERIFE SUR AEROPUERTO</td>\n",
       "      <td>STA. CRUZ DE TENERIFE</td>\n",
       "      <td>64</td>\n",
       "      <td>20,1</td>\n",
       "      <td>0,0</td>\n",
       "      <td>16,1</td>\n",
       "      <td>02:05</td>\n",
       "      <td>24,1</td>\n",
       "      <td>13:21</td>\n",
       "      <td>99</td>\n",
       "      <td>9,2</td>\n",
       "      <td>16,1</td>\n",
       "      <td>Varias</td>\n",
       "      <td>10,7</td>\n",
       "      <td>1016,7</td>\n",
       "      <td>Varias</td>\n",
       "      <td>1013,6</td>\n",
       "      <td>05</td>\n",
       "    </tr>\n",
       "  </tbody>\n",
       "</table>\n",
       "<p>466289 rows × 20 columns</p>\n",
       "</div>"
      ],
      "text/plain": [
       "            fecha indicativo                   nombre              provincia  \\\n",
       "0      2016-01-01      0252D            ARENYS DE MAR              BARCELONA   \n",
       "1      2016-01-02      0252D            ARENYS DE MAR              BARCELONA   \n",
       "2      2016-01-03      0252D            ARENYS DE MAR              BARCELONA   \n",
       "3      2016-01-04      0252D            ARENYS DE MAR              BARCELONA   \n",
       "4      2016-01-05      0252D            ARENYS DE MAR              BARCELONA   \n",
       "...           ...        ...                      ...                    ...   \n",
       "13119  2021-02-20      C429I  TENERIFE SUR AEROPUERTO  STA. CRUZ DE TENERIFE   \n",
       "13120  2021-02-21      C429I  TENERIFE SUR AEROPUERTO  STA. CRUZ DE TENERIFE   \n",
       "13121  2021-02-22      C429I  TENERIFE SUR AEROPUERTO  STA. CRUZ DE TENERIFE   \n",
       "13122  2021-02-23      C429I  TENERIFE SUR AEROPUERTO  STA. CRUZ DE TENERIFE   \n",
       "13123  2021-02-24      C429I  TENERIFE SUR AEROPUERTO  STA. CRUZ DE TENERIFE   \n",
       "\n",
       "      altitud  tmed prec  tmin horatmin  tmax horatmax dir velmedia racha  \\\n",
       "0          74  11,2  0,2   7,8    06:20  14,7    12:40  24      1,7   7,2   \n",
       "1          74  11,8  0,0   7,5    23:40  16,1    13:10  24      1,1   9,7   \n",
       "2          74  10,0  0,0   5,8    05:50  14,1    13:20  24      1,9   9,2   \n",
       "3          74  11,6  0,9   8,0    22:50  15,3    10:10  32      0,8   8,9   \n",
       "4          74   9,9  0,1   5,6    23:59  14,2    12:30  32      2,5   8,6   \n",
       "...       ...   ...  ...   ...      ...   ...      ...  ..      ...   ...   \n",
       "13119      64  18,8  0,1  14,2    02:45  23,4    14:00  99     11,7  22,2   \n",
       "13120      64  19,2  0,0  15,9    07:51  22,5   Varias  99      3,9  10,8   \n",
       "13121      64  17,9  0,0  14,7    05:45  21,1    12:25  12      3,3   7,2   \n",
       "13122      64  19,0  0,0  14,6    05:09  23,4    13:39  99      6,9  12,5   \n",
       "13123      64  20,1  0,0  16,1    02:05  24,1    13:21  99      9,2  16,1   \n",
       "\n",
       "      horaracha   sol presMax horaPresMax presMin horaPresMin  \n",
       "0         14:00   NaN     NaN         NaN     NaN         NaN  \n",
       "1         11:40   NaN     NaN         NaN     NaN         NaN  \n",
       "2         16:00   NaN     NaN         NaN     NaN         NaN  \n",
       "3         02:40   NaN     NaN         NaN     NaN         NaN  \n",
       "4         17:30   NaN     NaN         NaN     NaN         NaN  \n",
       "...         ...   ...     ...         ...     ...         ...  \n",
       "13119    Varias   5,5  1009,6          00  1002,8          17  \n",
       "13120    Varias   9,6  1013,0      Varias  1004,1          01  \n",
       "13121     11:56   5,3  1015,7      Varias  1011,7          05  \n",
       "13122    Varias   9,5  1016,4      Varias  1013,8          06  \n",
       "13123    Varias  10,7  1016,7      Varias  1013,6          05  \n",
       "\n",
       "[466289 rows x 20 columns]"
      ]
     },
     "execution_count": 9,
     "metadata": {},
     "output_type": "execute_result"
    }
   ],
   "source": [
    "df_weather"
   ]
  },
  {
   "cell_type": "code",
   "execution_count": 22,
   "metadata": {},
   "outputs": [
    {
     "data": {
      "text/html": [
       "<div>\n",
       "<style scoped>\n",
       "    .dataframe tbody tr th:only-of-type {\n",
       "        vertical-align: middle;\n",
       "    }\n",
       "\n",
       "    .dataframe tbody tr th {\n",
       "        vertical-align: top;\n",
       "    }\n",
       "\n",
       "    .dataframe thead th {\n",
       "        text-align: right;\n",
       "    }\n",
       "</style>\n",
       "<table border=\"1\" class=\"dataframe\">\n",
       "  <thead>\n",
       "    <tr style=\"text-align: right;\">\n",
       "      <th></th>\n",
       "      <th>fecha</th>\n",
       "      <th>system</th>\n",
       "      <th>prec</th>\n",
       "      <th>tmin</th>\n",
       "      <th>tmax</th>\n",
       "      <th>velmedia</th>\n",
       "      <th>sol</th>\n",
       "      <th>presMax</th>\n",
       "      <th>presMin</th>\n",
       "    </tr>\n",
       "  </thead>\n",
       "  <tbody>\n",
       "    <tr>\n",
       "      <th>0</th>\n",
       "      <td>2016-01-01</td>\n",
       "      <td>baleares</td>\n",
       "      <td>0.022222</td>\n",
       "      <td>8.544444</td>\n",
       "      <td>17.488889</td>\n",
       "      <td>2.366667</td>\n",
       "      <td>4.566561</td>\n",
       "      <td>1019.363378</td>\n",
       "      <td>1014.174425</td>\n",
       "    </tr>\n",
       "    <tr>\n",
       "      <th>1</th>\n",
       "      <td>2016-01-01</td>\n",
       "      <td>canarias</td>\n",
       "      <td>0.000000</td>\n",
       "      <td>14.280000</td>\n",
       "      <td>21.820000</td>\n",
       "      <td>2.871987</td>\n",
       "      <td>8.657036</td>\n",
       "      <td>1005.056728</td>\n",
       "      <td>1002.071764</td>\n",
       "    </tr>\n",
       "    <tr>\n",
       "      <th>2</th>\n",
       "      <td>2016-01-01</td>\n",
       "      <td>ceuta</td>\n",
       "      <td>0.000000</td>\n",
       "      <td>13.800000</td>\n",
       "      <td>21.200000</td>\n",
       "      <td>1.400000</td>\n",
       "      <td>7.600000</td>\n",
       "      <td>1015.400000</td>\n",
       "      <td>1012.400000</td>\n",
       "    </tr>\n",
       "    <tr>\n",
       "      <th>3</th>\n",
       "      <td>2016-01-01</td>\n",
       "      <td>melilla</td>\n",
       "      <td>0.000000</td>\n",
       "      <td>10.600000</td>\n",
       "      <td>20.400000</td>\n",
       "      <td>1.700000</td>\n",
       "      <td>9.100000</td>\n",
       "      <td>1019.900000</td>\n",
       "      <td>1016.600000</td>\n",
       "    </tr>\n",
       "    <tr>\n",
       "      <th>4</th>\n",
       "      <td>2016-01-02</td>\n",
       "      <td>baleares</td>\n",
       "      <td>0.177433</td>\n",
       "      <td>8.811111</td>\n",
       "      <td>18.344444</td>\n",
       "      <td>4.488889</td>\n",
       "      <td>5.233228</td>\n",
       "      <td>1017.352267</td>\n",
       "      <td>1012.785536</td>\n",
       "    </tr>\n",
       "    <tr>\n",
       "      <th>...</th>\n",
       "      <td>...</td>\n",
       "      <td>...</td>\n",
       "      <td>...</td>\n",
       "      <td>...</td>\n",
       "      <td>...</td>\n",
       "      <td>...</td>\n",
       "      <td>...</td>\n",
       "      <td>...</td>\n",
       "      <td>...</td>\n",
       "    </tr>\n",
       "    <tr>\n",
       "      <th>2923</th>\n",
       "      <td>2020-12-30</td>\n",
       "      <td>melilla</td>\n",
       "      <td>0.000000</td>\n",
       "      <td>8.600000</td>\n",
       "      <td>15.300000</td>\n",
       "      <td>2.500000</td>\n",
       "      <td>7.400000</td>\n",
       "      <td>1013.000000</td>\n",
       "      <td>1007.800000</td>\n",
       "    </tr>\n",
       "    <tr>\n",
       "      <th>2924</th>\n",
       "      <td>2020-12-31</td>\n",
       "      <td>baleares</td>\n",
       "      <td>0.700000</td>\n",
       "      <td>4.755556</td>\n",
       "      <td>13.988889</td>\n",
       "      <td>2.955556</td>\n",
       "      <td>7.744339</td>\n",
       "      <td>1013.191978</td>\n",
       "      <td>1006.900263</td>\n",
       "    </tr>\n",
       "    <tr>\n",
       "      <th>2925</th>\n",
       "      <td>2020-12-31</td>\n",
       "      <td>canarias</td>\n",
       "      <td>0.861503</td>\n",
       "      <td>14.330994</td>\n",
       "      <td>20.169522</td>\n",
       "      <td>4.216667</td>\n",
       "      <td>6.806768</td>\n",
       "      <td>999.909773</td>\n",
       "      <td>996.265359</td>\n",
       "    </tr>\n",
       "    <tr>\n",
       "      <th>2926</th>\n",
       "      <td>2020-12-31</td>\n",
       "      <td>ceuta</td>\n",
       "      <td>12.000000</td>\n",
       "      <td>8.000000</td>\n",
       "      <td>14.900000</td>\n",
       "      <td>2.800000</td>\n",
       "      <td>7.600000</td>\n",
       "      <td>1009.400000</td>\n",
       "      <td>1006.300000</td>\n",
       "    </tr>\n",
       "    <tr>\n",
       "      <th>2927</th>\n",
       "      <td>2020-12-31</td>\n",
       "      <td>melilla</td>\n",
       "      <td>0.000000</td>\n",
       "      <td>6.600000</td>\n",
       "      <td>15.600000</td>\n",
       "      <td>4.200000</td>\n",
       "      <td>8.800000</td>\n",
       "      <td>1013.000000</td>\n",
       "      <td>1009.400000</td>\n",
       "    </tr>\n",
       "  </tbody>\n",
       "</table>\n",
       "<p>2928 rows × 9 columns</p>\n",
       "</div>"
      ],
      "text/plain": [
       "           fecha    system       prec       tmin       tmax  velmedia  \\\n",
       "0     2016-01-01  baleares   0.022222   8.544444  17.488889  2.366667   \n",
       "1     2016-01-01  canarias   0.000000  14.280000  21.820000  2.871987   \n",
       "2     2016-01-01     ceuta   0.000000  13.800000  21.200000  1.400000   \n",
       "3     2016-01-01   melilla   0.000000  10.600000  20.400000  1.700000   \n",
       "4     2016-01-02  baleares   0.177433   8.811111  18.344444  4.488889   \n",
       "...          ...       ...        ...        ...        ...       ...   \n",
       "2923  2020-12-30   melilla   0.000000   8.600000  15.300000  2.500000   \n",
       "2924  2020-12-31  baleares   0.700000   4.755556  13.988889  2.955556   \n",
       "2925  2020-12-31  canarias   0.861503  14.330994  20.169522  4.216667   \n",
       "2926  2020-12-31     ceuta  12.000000   8.000000  14.900000  2.800000   \n",
       "2927  2020-12-31   melilla   0.000000   6.600000  15.600000  4.200000   \n",
       "\n",
       "           sol      presMax      presMin  \n",
       "0     4.566561  1019.363378  1014.174425  \n",
       "1     8.657036  1005.056728  1002.071764  \n",
       "2     7.600000  1015.400000  1012.400000  \n",
       "3     9.100000  1019.900000  1016.600000  \n",
       "4     5.233228  1017.352267  1012.785536  \n",
       "...        ...          ...          ...  \n",
       "2923  7.400000  1013.000000  1007.800000  \n",
       "2924  7.744339  1013.191978  1006.900263  \n",
       "2925  6.806768   999.909773   996.265359  \n",
       "2926  7.600000  1009.400000  1006.300000  \n",
       "2927  8.800000  1013.000000  1009.400000  \n",
       "\n",
       "[2928 rows x 9 columns]"
      ]
     },
     "execution_count": 22,
     "metadata": {},
     "output_type": "execute_result"
    }
   ],
   "source": [
    "weather_grouped=df_weather.groupby(['fecha','system'],as_index=False)\n",
    "df_weather_system=weather_grouped.mean(['tmed','prec','tmin','tmax','velmedia','sol','presMax','presMin'])\n",
    "df_weather_system"
   ]
  },
  {
   "cell_type": "markdown",
   "metadata": {},
   "source": [
    "## Lectura de los datos de REE\n",
    "\n",
    "Para la lectura de los datos de REE voy a utilizar la libreria python requests para a traves de su API, obtener la generación de electricidad en , para cada tipo de energia Electrica.\n",
    "\n",
    "Una vez leidos los datos de la API, guardo los datos en formato json en un fichero. para no tener que repetir las consultas y poder trabajar sin conexion.\n",
    "\n",
    "La estrutura de los datos leidos de REE es la siguiente:\n",
    "\n",
    "\n",
    "Por lo que vamos a almacenar 2 ficheros:\n",
    "    - Renovables\n",
    "    - No Renovables\n",
    "\n"
   ]
  },
  {
   "cell_type": "code",
   "execution_count": null,
   "metadata": {},
   "outputs": [],
   "source": [
    "# Leemos las regiones de ree obtenidas desde (https://www.ree.es/es/apidatos) desde un fichero ubicado en la misma ruta que este notebook\n",
    "region_ree=pd.read_csv('../Data/REGION_REE',header=0,index_col='Region')\n",
    "\n",
    "# Me quedo solo con los distintos sistemas electricos existentes\n",
    "region_system=region_ree[region_ree['geo_limit']!='ccaa']\n",
    "\n",
    "region_system"
   ]
  },
  {
   "cell_type": "code",
   "execution_count": null,
   "metadata": {},
   "outputs": [],
   "source": [
    "# Obtenemos los datos de REE a traves de su API. \n",
    "\n",
    "def lectura_ree_electric_system(d_inicio,d_fin,geo_id):\n",
    "    '''Dada una fecha'''\n",
    "    # meter esto en una funcion con su try-exception    \n",
    "    # Dividir la lectura por años\n",
    "    \n",
    "    geo_limit=region_system[region_system['geo_id']==geo_id]['geo_limit']\n",
    "    \n",
    "    parametros={'start_date':date_ini,\n",
    "            'end_date':date_end,\n",
    "            'time_trunc':'day',\n",
    "            'geo_trunc':'electric_system',\n",
    "            'geo_limit':geo_limit[0],\n",
    "            'geo_ids':geo_id}\n",
    "    \n",
    "    URL_GEN='https://apidatos.ree.es/es/datos/generacion/estructura-generacion'\n",
    "\n",
    "    ree_gen=requests.get(URL_GEN,params=parametros)\n",
    "    \n",
    "    df_ree=pd.DataFrame()\n",
    "    for i in range(20):\n",
    "        try:\n",
    "            df=pd.json_normalize(ree_gen.json()['included'][i]['attributes'],meta=['title','type'],record_path=['values'])\n",
    "            df['system']=geo_limit[0]\n",
    "            df_ree=df_ree.append(df)\n",
    "        except:\n",
    "            pass #Cuando no hay datos para mas tecnologías\n",
    "    df_ree.reset_index(inplace=True,drop=True)\n",
    "    \n",
    "    return df_ree"
   ]
  },
  {
   "cell_type": "code",
   "execution_count": null,
   "metadata": {},
   "outputs": [],
   "source": [
    "df_ree_system=pd.DataFrame()"
   ]
  },
  {
   "cell_type": "code",
   "execution_count": null,
   "metadata": {},
   "outputs": [],
   "source": [
    "\n",
    "date_ini=\"2020-01-01T00:00:00UTC\"\n",
    "date_end=\"2020-12-31T00:00:00UTC\"\n",
    "\n",
    "for electric_system in tqdm(region_system['geo_id']):\n",
    "    df_ree_system=df_ree_system.append(lectura_ree_electric_system(date_ini,date_end,electric_system))\n",
    "df_ree_system "
   ]
  },
  {
   "cell_type": "markdown",
   "metadata": {},
   "source": [
    "# Limpieza de datos de REE"
   ]
  },
  {
   "cell_type": "code",
   "execution_count": null,
   "metadata": {},
   "outputs": [],
   "source": [
    "# Renombro los campos\n",
    "df_ree_system.rename(columns={'value':'Generacion_Mwh','title':'Tecnologia','type':'Renov_norenov'},inplace=True)\n",
    "\n",
    "# Elimino la columna percentage por ser una columna generada de Generacion_Mwh.\n",
    "df_ree_system.drop('percentage',axis=1,inplace=True)\n",
    "\n",
    "# Cambio los valores nulos de Generacion en Mwh por 0\n",
    "df_ree_system['Generacion_Mwh'].fillna(0)\n",
    "\n",
    "# Elimino las filas para las cuales la fecha es nula y paso la fecha a formato corto.\n",
    "df_ree_system['fecha']=df_ree_system['datetime'].str[:10]\n",
    "df_ree_system=df_ree_system[~df_ree_system['fecha'].isna()]\n",
    "df_ree_system.drop('datetime',axis=1,inplace=True)\n",
    "df_ree_system"
   ]
  },
  {
   "cell_type": "markdown",
   "metadata": {},
   "source": [
    "# Repositorio de información\n",
    "\n",
    "Para evitar tener que leer todos los datos en cada ejecucion, guardamos los en formato csv desde los DataFrame de REE y AEMET"
   ]
  },
  {
   "cell_type": "code",
   "execution_count": null,
   "metadata": {},
   "outputs": [],
   "source": [
    "#df_ree_system.to_csv('../Data/ree_system.csv')"
   ]
  },
  {
   "cell_type": "code",
   "execution_count": null,
   "metadata": {},
   "outputs": [],
   "source": [
    "#df_weather_system.to_csv('../Data/weather.csv')"
   ]
  },
  {
   "cell_type": "code",
   "execution_count": 8,
   "metadata": {},
   "outputs": [],
   "source": [
    "df_aux.to_csv('../Data/aux_weather.csv')"
   ]
  },
  {
   "cell_type": "markdown",
   "metadata": {},
   "source": [
    "# Lectura desde el Repositorio"
   ]
  },
  {
   "cell_type": "code",
   "execution_count": null,
   "metadata": {},
   "outputs": [],
   "source": [
    "df_ree_system=pd.read_csv('../Data/ree_system.csv',usecols=[1,2,3,4,5])\n",
    "df_weather=pd.read_csv('../Data/weather.csv',index_col=0)"
   ]
  },
  {
   "cell_type": "code",
   "execution_count": null,
   "metadata": {},
   "outputs": [],
   "source": [
    "import seaborn as sns\n",
    "\n",
    "sns.pairplot(df_weather);"
   ]
  },
  {
   "cell_type": "markdown",
   "metadata": {},
   "source": [
    "Vemos que en funcion de la presion (minima y maxima):\n",
    "    - Hay 2 grupos muy claramente diferenciandos para temperaturas , velocidad del viento y horas de sol.\n",
    "    - Y 2 grupos pero no tan claramente diferenciados para las precipitaciones\n",
    "    - Se ve claramente un dato outlier para precipitaciones y otro para temperatura minima"
   ]
  },
  {
   "cell_type": "markdown",
   "metadata": {},
   "source": [
    "# Outlier\n",
    "\n",
    "Vamos a buscar los outlier de precipitaciones y temperatura minima, por si fuesen datos erroneos.\n",
    "\n",
    "### Outlier de Precipitaciones\n",
    "\n",
    "El 28-04-2017 tenemos un dato máximo en la serie histórica de precipitaciones con 184,4mm en la estación de CEUTA, revisando el dato vemos que ese dato si es correcto y así lo recoge la propia AEMET.\n",
    "\n",
    "https://aemetblog.es/2017/06/21/resumen-climatico-de-la-primavera-2017/"
   ]
  },
  {
   "cell_type": "code",
   "execution_count": null,
   "metadata": {},
   "outputs": [],
   "source": [
    "maxprec_mm=df_weather[df_weather['prec']==df_weather['prec'].max()]['prec']\n",
    "maxprec_fec=df_weather[df_weather['prec']==df_weather['prec'].max()]['fecha']\n",
    "plt.figure(figsize=(15,6))\n",
    "\n",
    "plt.scatter(df_weather['fecha'],df_weather['prec'],alpha=0.5)\n",
    "plt.scatter(maxprec_fec,maxprec_mm,c='r');\n"
   ]
  },
  {
   "cell_type": "code",
   "execution_count": null,
   "metadata": {},
   "outputs": [],
   "source": [
    "df_weather[df_weather['prec']==df_weather['prec'].max()]"
   ]
  },
  {
   "cell_type": "markdown",
   "metadata": {},
   "source": [
    "### Outlier de Temperatura mínima\n",
    "\n",
    "El 02-08-2020 tenemos un dato máximo en la serie histórica de temperaturas minimas de 31,8mm en la estación de MELILLA, revisando el dato vemos que ese dato si es correcto y así lo recogen varios periodicos de esos días\n",
    "\n",
    "https://elfarodemelilla.es/aviso-naranja-altas-temperaturas-melilla-registrara-hoy-28-grados-minima/"
   ]
  },
  {
   "cell_type": "code",
   "execution_count": null,
   "metadata": {},
   "outputs": [],
   "source": [
    "tminGrouped=df_weather.groupby('fecha')['tmin'].mean().reset_index()\n",
    "maxtmin_celsius=df_weather[df_weather['tmin']==df_weather['tmin'].max()]['tmin']\n",
    "maxtmin_fec=df_weather[df_weather['tmin']==df_weather['tmin'].max()]['fecha']"
   ]
  },
  {
   "cell_type": "code",
   "execution_count": null,
   "metadata": {},
   "outputs": [],
   "source": [
    "\n",
    "plt.figure(figsize=(15,6))\n",
    "plt.plot(tminGrouped['fecha'],tminGrouped['tmin'],c='k');\n",
    "plt.scatter(df_weather['fecha'],df_weather['tmin'],alpha=0.2);\n",
    "plt.scatter(maxtmin_fec,maxtmin_celsius,c='r');\n"
   ]
  },
  {
   "cell_type": "code",
   "execution_count": null,
   "metadata": {},
   "outputs": [],
   "source": [
    "df_weather[df_weather['tmin']==df_weather['tmin'].max()]"
   ]
  },
  {
   "cell_type": "code",
   "execution_count": null,
   "metadata": {},
   "outputs": [],
   "source": [
    "df_weather"
   ]
  },
  {
   "cell_type": "markdown",
   "metadata": {},
   "source": [
    "# Union of weather and generation data"
   ]
  },
  {
   "cell_type": "markdown",
   "metadata": {},
   "source": [
    "## Features \n",
    "\n",
    "Para hacer un primer modelo quito generación total"
   ]
  },
  {
   "cell_type": "code",
   "execution_count": null,
   "metadata": {},
   "outputs": [],
   "source": [
    "df_ree_system=df_ree_system[~(df_ree_system['Renov_norenov']=='Generación total')]\n",
    "df_ree_system.reset_index(inplace=True,drop=True) # Reset index to merge de info after the features tratment\n"
   ]
  },
  {
   "cell_type": "markdown",
   "metadata": {},
   "source": [
    "## Electric System Encoder"
   ]
  },
  {
   "cell_type": "code",
   "execution_count": null,
   "metadata": {},
   "outputs": [],
   "source": [
    "from sklearn.preprocessing import OneHotEncoder\n",
    "\n",
    "\n",
    "enc=OneHotEncoder().fit(df_ree_system[['Tecnologia','Renov_norenov','system']])\n",
    "\n",
    "df_transform=enc.transform(df_ree_system[['Tecnologia','Renov_norenov','system']])\n",
    "\n",
    "column_names=enc.get_feature_names(['Tecnologia','Renov_norenov','system'])\n",
    "df_onehot =  pd.DataFrame(df_transform.todense(), columns= column_names)"
   ]
  },
  {
   "cell_type": "code",
   "execution_count": null,
   "metadata": {},
   "outputs": [],
   "source": [
    "df_onehot"
   ]
  },
  {
   "cell_type": "markdown",
   "metadata": {},
   "source": [
    "# Encoder Weather"
   ]
  },
  {
   "cell_type": "code",
   "execution_count": null,
   "metadata": {},
   "outputs": [],
   "source": [
    "\n",
    "enc_weather=OneHotEncoder().fit(df_weather[['electric_system']])\n",
    "\n",
    "df_weather_transf=enc_weather.transform(df_weather[['electric_system']])\n",
    "\n",
    "column_names=enc_weather.get_feature_names(['electric_system'])\n",
    "df_weather_onehot =  pd.DataFrame(df_weather_transf.todense(), columns= column_names)"
   ]
  },
  {
   "cell_type": "code",
   "execution_count": null,
   "metadata": {},
   "outputs": [],
   "source": [
    "df_weather_onehot"
   ]
  },
  {
   "cell_type": "markdown",
   "metadata": {},
   "source": [
    "###  Tratamiento de fechas\n",
    "\n",
    "Para pasar las fechas aun formato en que el salto entre el ultimo dia de un mes y el primer dia del siguiente sea continuo, uso los cosenos de los dias y meses. \n",
    "\n",
    "Para ello situo los valores de los 31 dias en angulos iguales calulandolos como $Dia(x)=\\cos\\frac{2\\pi}{31}x$\n",
    "\n",
    "Del mismo modo para los meses situo cada mes en $Mes(x)=\\cos\\frac{2\\pi}{12}x$"
   ]
  },
  {
   "cell_type": "code",
   "execution_count": null,
   "metadata": {},
   "outputs": [],
   "source": [
    "df_ree_system['year']=df_ree_system['fecha'].str.slice(0,4)\n",
    "df_ree_system['day']=df_ree_system['fecha'].str.slice(8,10)\n",
    "df_ree_system['month']=df_ree_system['fecha'].str.slice(5,7)"
   ]
  },
  {
   "cell_type": "code",
   "execution_count": null,
   "metadata": {},
   "outputs": [],
   "source": [
    "df_ree_system['day_t']=np.cos(((2*np.pi)/31)*df_ree_system['day'].astype(int))\n",
    "df_ree_system['month_t']=np.cos(((2*np.pi)/12)*df_ree_system['month'].astype(int))\n",
    "df_ree_system"
   ]
  },
  {
   "cell_type": "code",
   "execution_count": null,
   "metadata": {},
   "outputs": [],
   "source": [
    "df_ree_system.drop(['month','day','Tecnologia','Renov_norenov','system'],axis=1,inplace=True)"
   ]
  },
  {
   "cell_type": "code",
   "execution_count": null,
   "metadata": {},
   "outputs": [],
   "source": [
    "df_weather['year']=df_weather['fecha'].str.slice(0,4)\n",
    "df_weather['day']=df_weather['fecha'].str.slice(8,10)\n",
    "df_weather['month']=df_weather['fecha'].str.slice(5,7)\n",
    "df_weather['day_t']=np.cos((2*np.pi)/df_weather['day'].astype(int))\n",
    "df_weather['month_t']=np.cos(((2*np.pi)/12)*df_weather['month'].astype(int))\n"
   ]
  },
  {
   "cell_type": "code",
   "execution_count": null,
   "metadata": {},
   "outputs": [],
   "source": [
    "df_weather.drop(['day','month'],axis=1,inplace=True)"
   ]
  },
  {
   "cell_type": "markdown",
   "metadata": {},
   "source": [
    "# Unir las 3 tablas df_weather, df_ree_system, df_onehot"
   ]
  },
  {
   "cell_type": "code",
   "execution_count": null,
   "metadata": {},
   "outputs": [],
   "source": [
    "df_ree_features=pd.merge(df_ree_system,df_onehot, how='inner', left_index=True,right_index=True)\n",
    "df_ree_features"
   ]
  },
  {
   "cell_type": "code",
   "execution_count": null,
   "metadata": {},
   "outputs": [],
   "source": [
    "\n",
    "# df_tratado=pd.merge(df_ree_features,df_weather,how='inner', on='fecha')\n",
    "# df_tratado.drop(['year_x','day_t_x','month_t_x'],axis=1,inplace=True)"
   ]
  },
  {
   "cell_type": "code",
   "execution_count": null,
   "metadata": {},
   "outputs": [],
   "source": [
    "\n",
    "\n",
    "df_tratado_num=df_ree_features.select_dtypes(np.number)\n",
    "df_tratado_num"
   ]
  },
  {
   "cell_type": "markdown",
   "metadata": {},
   "source": [
    "# Models"
   ]
  },
  {
   "cell_type": "code",
   "execution_count": null,
   "metadata": {},
   "outputs": [],
   "source": [
    "from sklearn.neighbors import KNeighborsRegressor\n",
    "from sklearn.model_selection import GridSearchCV\n",
    "from sklearn.model_selection import GridSearchCV\n",
    "\n",
    "target='Generacion_Mwh'\n",
    "\n",
    "y=df_tratado_num[target]\n",
    "X=df_tratado_num.drop([target],axis=1)\n",
    "\n",
    "\n",
    "\n",
    "reg_KN=GridSearchCV(KNeighborsRegressor(),param_grid={\"n_neighbors\":np.arange(3,15)},scoring='neg_mean_absolute_error')\n",
    "reg_KN.fit(X,y)"
   ]
  },
  {
   "cell_type": "code",
   "execution_count": null,
   "metadata": {},
   "outputs": [],
   "source": [
    "from sklearn.tree import DecisionTreeRegressor\n",
    "\n",
    "reg_DT=GridSearchCV(DecisionTreeRegressor(),param_grid={'max_depth':range(3,100)},scoring='neg_mean_absolute_error')\n",
    "reg_DT.fit(X,y)"
   ]
  },
  {
   "cell_type": "markdown",
   "metadata": {},
   "source": [
    "# Evaluation\n",
    "\n",
    "Crear tabla de resultados."
   ]
  },
  {
   "cell_type": "code",
   "execution_count": null,
   "metadata": {},
   "outputs": [],
   "source": [
    "print(reg_KN.best_score_)\n",
    "print(reg_KN.best_params_)"
   ]
  },
  {
   "cell_type": "code",
   "execution_count": null,
   "metadata": {},
   "outputs": [],
   "source": [
    "print(reg_DT.best_score_)\n",
    "print(reg_DT.best_params_)"
   ]
  },
  {
   "cell_type": "markdown",
   "metadata": {},
   "source": [
    "# Interfaz y ploteado\n"
   ]
  },
  {
   "cell_type": "code",
   "execution_count": null,
   "metadata": {},
   "outputs": [],
   "source": []
  }
 ],
 "metadata": {
  "kernelspec": {
   "display_name": "Python 3",
   "language": "python",
   "name": "python3"
  },
  "language_info": {
   "codemirror_mode": {
    "name": "ipython",
    "version": 3
   },
   "file_extension": ".py",
   "mimetype": "text/x-python",
   "name": "python",
   "nbconvert_exporter": "python",
   "pygments_lexer": "ipython3",
   "version": "3.7.1"
  }
 },
 "nbformat": 4,
 "nbformat_minor": 2
}
