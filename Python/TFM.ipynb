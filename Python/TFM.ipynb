{
 "cells": [
  {
   "cell_type": "markdown",
   "metadata": {},
   "source": [
    "# Produccion electrica en base a la metereología\n",
    "\n",
    "La idea principal del trabajo es ser capaces de predecir como va a afectar a que aumenten la produccion electrica de energias renovables las precipitaciones, el viento y las horas de sol.\n",
    "Como las horas de sol y el viento son fenomenos cuya causa efecto es prácticamente inmediato vamos a centrarnos en la produccion de energia hidroelectrica.\n",
    "\n",
    "En base a esto tenemos varias cuestiones que queremos despejar:\n",
    "- Que relación hay entre precipitaciones y el aumento de la generación de energia eléctrica hidráulica.\n",
    "- Que relación hay entre horas de sol, temperatura y el aumento de la generación de energia eléctrica sólar.\n",
    "- Que relación hay entre viento y el aumento de la generación de energia eléctrica eólica, esta relación esta condicionada por la temperatura, percipitaciones o horas de sol.\n",
    "- Cuantos días tarda en aumentar la generación eléctrica de fuentes de energía renovables en función de los fenomenos metereológicos.\n",
    "- Dados una prediccion meteorologica que valores de generación eléctrica tendremos para una fecha determinada.\n",
    "\n",
    "\n",
    "\n",
    "Como premisas partimos de :\n",
    "- Vamos a considerar solo el poll de energia que proporciona Red Electrica de España (REE)\n",
    "- Vamos a considerar que las empresas no trabajan bajo mala praxis y que intentan optimizar el uso de energias renovables.\n",
    "- Debido a la falta de datos a nivel diario de REE por provincia o comunidades autonomas, voy a centrar el analisis a nivel de sistema eléctrico (Peninsula, Baleares, Canarias ,Ceuta y Melilla).\n",
    "\n",
    "Como origenes de datos para el estudio vamos a utilizar los datos proporcionados por:\n",
    "- Información de REE (https://www.ree.es/es/apidatos) obtenida mediante su API.\n",
    "- Datos proporcionados por aemet(https://opendata.aemet.es/centrodedescargas/inicio), vamos a utilizar la libreria  aemet desarrollada por Pablo Moreno (https://pypi.org/project/python-aemet/).\n",
    "\n",
    "Requisitos para la ejecución del notebook:\n",
    "\n",
    "Como requisitos para la ejecución del proyecto es necesario la instalación de la libreria python Aemet(pip install python-aemet) e instalar la libreria request.\n",
    "\n",
    "Además las versiones de cada libreria utilizada en este proyecto son:\n",
    "\n",
    "El modelo ha utilizar al tratarse de una prediccion númerica y no de obtener una etiqueta, sera una regresión.\n",
    "Para poder llevar a cabo esa regresion se han pasado los valores de fechas a númericos, y se ha creado una columna por cada tipo de energia, creando varias variables objetivo.\n",
    "\n"
   ]
  },
  {
   "cell_type": "code",
   "execution_count": null,
   "metadata": {},
   "outputs": [],
   "source": []
  },
  {
   "cell_type": "code",
   "execution_count": 1,
   "metadata": {},
   "outputs": [],
   "source": [
    "from aemet import Aemet,Estacion\n",
    "import pandas as pd\n",
    "import numpy as np\n",
    "import scipy as sp\n",
    "import matplotlib.pyplot as plt\n",
    "import json\n",
    "import requests\n",
    "import time\n",
    "\n",
    "# Leemos la clave de la API de AEMET desde un fichero ubicado en la misma ruta que este notebook\n",
    "with open('API_KEY_AEMET','r') as file:\n",
    "    API_KEY_AE=file.read()\n",
    "\n",
    "    "
   ]
  },
  {
   "cell_type": "markdown",
   "metadata": {},
   "source": [
    "###  Lectura datos AEMET\n",
    "\n",
    "Para la lectura de datos metereólogicos, vamos a utilizar la libreria aemet, de la que utilizaremos los metodos de las clases Aemet y Estacion para obtener los datos a nivel diario de cada estación meterologica para un rago de fechas, de las provincias que nos interesan para el estudio."
   ]
  },
  {
   "cell_type": "code",
   "execution_count": 2,
   "metadata": {},
   "outputs": [],
   "source": [
    "# Obtenemos el json de estaciones de mediciones de aemet \n",
    "info_estaciones=Estacion.get_estaciones(API_KEY_AE)\n",
    "\n",
    "# Creamos un objeto Aemet para usar los metodos de la libreria aemet\n",
    "aemet=Aemet(API_KEY_AE)"
   ]
  },
  {
   "cell_type": "code",
   "execution_count": 3,
   "metadata": {},
   "outputs": [],
   "source": [
    "from tqdm import tqdm_notebook as tqdm\n",
    "\n",
    "# Definimos funciones que vamos a utilizar para leer los datos de AEMET\n",
    "def estaciones_prov (prov,lista_estaciones):\n",
    "    '''Dada una lista de provincias y un json de estaciones de aemet. \n",
    "    Obtiene una lista de los ID de las estaciones de esa provincia.'''\n",
    "    lista_id=[]\n",
    "    prov=list(map(str.upper, prov))\n",
    "    for estacion in tqdm(lista_estaciones):\n",
    "        if estacion['provincia'] in prov:\n",
    "            lista_id.append(estacion['indicativo'])\n",
    "    return lista_id\n",
    "\n",
    "\n",
    "def lectura_diaria_json(date_ini,date_end,estaciones):\n",
    "    '''Dado un json de la clase Estacion de la libreria Aemet, y fechas de inicio y fin:\n",
    "    Obtenemos los datos climatologicos entre las dos fechas para todas las estaciones de manera diaria\n",
    "    Si la fecha de inicio es anterior a 2016, se cambia a 2016-01-01, para evitar errores.\n",
    "    '''\n",
    "    valores_diarios=[]\n",
    "    valores_error=[]\n",
    "    if date_ini[0:4]<'2016-01':\n",
    "        date_ini=\"2016-01-01T00:00:00UTC\"\n",
    "    if date_ini>date_end:\n",
    "        print('Valores no válidos, fecha de inicio mayor que la fecha de fin')\n",
    "        return valores_diarios;\n",
    "    for element in tqdm(estaciones):\n",
    "        try:\n",
    "            valores_estacion=aemet.get_valores_climatologicos_diarios(date_ini,date_end,element['indicador'])\n",
    "            if type(valores_estacion)!=dict:\n",
    "                valores_diarios.extend(valores_estacion)\n",
    "        except:\n",
    "            time.sleep(56) # para evitar errores por nº de lecturas por minuto.\n",
    "            #Volvemos a intentar leer el dato que ha lanzado la excepcion.\n",
    "            try:\n",
    "                valores_estacion=aemet.get_valores_climatologicos_diarios(date_ini,date_end,element['indicador'])\n",
    "                if type(valores_estacion)!=dict:\n",
    "                    valores_diarios.extend(valores_estacion)\n",
    "            except:\n",
    "                print('Valor no encontrado')\n",
    "                \n",
    "    return valores_diarios;\n",
    "\n",
    "\n",
    "def lectura_diaria_lista(date_ini,date_end,lista_estaciones):\n",
    "    '''Dado una lista de id de estaciones de aemet, y fechas de inicio y fin:\n",
    "    Obtenemos los datos climatologicos entre las dos fechas para todas las estaciones de manera diaria\n",
    "    Si la fecha de inicio es anterior a 2016, se cambia a 2016-01-01, para evitar errores.\n",
    "    '''\n",
    "    valores_diarios=[]\n",
    "    if date_ini[0:4]<'2016-01':\n",
    "        date_ini=\"2016-01-01T00:00:00UTC\"\n",
    "    if date_ini>date_end:\n",
    "        print('Valores no válidos, fecha de inicio mayor que la fecha de fin')\n",
    "        return valores_diarios;\n",
    "    for element in tqdm(lista_estaciones):\n",
    "        try:\n",
    "            valores_estacion=aemet.get_valores_climatologicos_diarios(date_ini,date_end,element)\n",
    "            if type(valores_estacion)!=dict:\n",
    "                valores_diarios.extend(valores_estacion)\n",
    "        except:\n",
    "            time.sleep(56) # para evitar errores por nº de lecturas.\n",
    "            try:\n",
    "                valores_estacion=aemet.get_valores_climatologicos_diarios(date_ini,date_end,element)\n",
    "                if type(valores_estacion)!=dict:\n",
    "                    valores_diarios.extend(valores_estacion)\n",
    "            except:\n",
    "                print('Valor no encontrado')\n",
    "                \n",
    "    return valores_diarios;"
   ]
  },
  {
   "cell_type": "code",
   "execution_count": 4,
   "metadata": {},
   "outputs": [
    {
     "data": {
      "application/vnd.jupyter.widget-view+json": {
       "model_id": "c18261544e78422e8d61d090c8048fce",
       "version_major": 2,
       "version_minor": 0
      },
      "text/plain": [
       "HBox(children=(IntProgress(value=0, max=291), HTML(value='')))"
      ]
     },
     "metadata": {},
     "output_type": "display_data"
    },
    {
     "name": "stdout",
     "output_type": "stream",
     "text": [
      "\n"
     ]
    },
    {
     "data": {
      "application/vnd.jupyter.widget-view+json": {
       "model_id": "85bc0995e38a46eebfae216e641f476f",
       "version_major": 2,
       "version_minor": 0
      },
      "text/plain": [
       "HBox(children=(IntProgress(value=0, max=33), HTML(value='')))"
      ]
     },
     "metadata": {},
     "output_type": "display_data"
    },
    {
     "name": "stdout",
     "output_type": "stream",
     "text": [
      "\n"
     ]
    }
   ],
   "source": [
    "# Parametros para lectura de datos de AEMET\n",
    "\n",
    "provincias=['Ceuta','Melilla','Illes Balears','Las Palmas','Sta. Cruz de Tenerife']\n",
    "\n",
    "date_ini=\"2020-12-01T00:00:00UTC\"\n",
    "date_end=\"2020-12-30T23:59:59UTC\"\n",
    "\n",
    "id_estaciones=estaciones_prov(provincias,info_estaciones)\n",
    "\n",
    "# Pasamos los datos ha dataframes para su procesado y limpieza\n",
    "estaciones=pd.DataFrame(info_estaciones)\n",
    "df_weather=pd.DataFrame(lectura_diaria_lista(date_ini,date_end,id_estaciones),dtype=str)"
   ]
  },
  {
   "cell_type": "markdown",
   "metadata": {},
   "source": [
    "### Limpieza datos AEMET"
   ]
  },
  {
   "cell_type": "code",
   "execution_count": 5,
   "metadata": {},
   "outputs": [],
   "source": [
    "# Creo una funcion que pase los indicadores a float y rellene los valores vacios por la temperatura media de las estaciones de esa provincia\n",
    "def rellena_nulos_provincia(df,cols):\n",
    "    # Defino un DataFrame vacio para acumular el resultado\n",
    "    df_all=pd.DataFrame()\n",
    "    \n",
    "    # Hago un bucle para cada provincia del DataFrame de entrada\n",
    "    for prov in df['provincia'].unique():\n",
    "        df_prov=df[df['provincia']==prov].copy()\n",
    "        \n",
    "        #Para cada elemento de las columnas que nos interesan reemplazo , por ., paso a numerico y relleno los nulos por la media de la provincia\n",
    "        for element in cols:\n",
    "            df_prov[element]=df_prov[element].str.replace(',', '.')\n",
    "            df_prov[element]=pd.to_numeric(df_prov[element],errors='coerce')\n",
    "            df_prov[element].fillna(df_prov[element].mean(skipna=True),inplace=True)\n",
    "        df_all=df_all.append(df_prov)\n",
    "    return df_all"
   ]
  },
  {
   "cell_type": "code",
   "execution_count": 6,
   "metadata": {},
   "outputs": [],
   "source": [
    "# Elimino las columnas que no me interesan\n",
    "df_weather.drop(columns=['horaPresMax','horaPresMin','horaracha','dir','horatmin','horatmax'],inplace=True)\n",
    "\n",
    "# Limpio de nulos la muestra\n",
    "df_weather=rellena_nulos_provincia(df_weather,df_weather.columns[5:])\n"
   ]
  },
  {
   "cell_type": "markdown",
   "metadata": {},
   "source": [
    "# Análisis de la muestra\n",
    "\n",
    "1 Evolución de temperaturas\n",
    "\n",
    "2 Correlaciones\n",
    "\n",
    "3 Evolución de precipitaciones\n",
    "\n",
    "4 Datos estacionales\n",
    "\n",
    "5 Localizar datos anomalos\n"
   ]
  },
  {
   "cell_type": "markdown",
   "metadata": {},
   "source": [
    "## Lectura de los datos de REE\n",
    "\n",
    "Para la lectura de los datos de REE voy a utilizar la libreria python requests para a traves de su API, obtener la generación de electricidad en , para cada tipo de energia Electrica.\n",
    "\n",
    "Una vez leidos los datos de la API, guardo los datos en formato json en un fichero. para no tener que repetir las consultas y poder trabajar sin conexion.\n",
    "\n",
    "La estrutura de los datos leidos de REE es la siguiente:\n",
    "\n",
    "\n",
    "Por lo que vamos a almacenar 2 ficheros:\n",
    "    - Renovables\n",
    "    - No Renovables\n",
    "\n"
   ]
  },
  {
   "cell_type": "code",
   "execution_count": 7,
   "metadata": {},
   "outputs": [
    {
     "data": {
      "text/html": [
       "<div>\n",
       "<style scoped>\n",
       "    .dataframe tbody tr th:only-of-type {\n",
       "        vertical-align: middle;\n",
       "    }\n",
       "\n",
       "    .dataframe tbody tr th {\n",
       "        vertical-align: top;\n",
       "    }\n",
       "\n",
       "    .dataframe thead th {\n",
       "        text-align: right;\n",
       "    }\n",
       "</style>\n",
       "<table border=\"1\" class=\"dataframe\">\n",
       "  <thead>\n",
       "    <tr style=\"text-align: right;\">\n",
       "      <th></th>\n",
       "      <th>geo_limit</th>\n",
       "      <th>geo_id</th>\n",
       "    </tr>\n",
       "    <tr>\n",
       "      <th>Region</th>\n",
       "      <th></th>\n",
       "      <th></th>\n",
       "    </tr>\n",
       "  </thead>\n",
       "  <tbody>\n",
       "    <tr>\n",
       "      <th>peninsular</th>\n",
       "      <td>peninsular</td>\n",
       "      <td>8741</td>\n",
       "    </tr>\n",
       "    <tr>\n",
       "      <th>canarias</th>\n",
       "      <td>canarias</td>\n",
       "      <td>8742</td>\n",
       "    </tr>\n",
       "    <tr>\n",
       "      <th>baleares</th>\n",
       "      <td>baleares</td>\n",
       "      <td>8743</td>\n",
       "    </tr>\n",
       "    <tr>\n",
       "      <th>ceuta</th>\n",
       "      <td>ceuta</td>\n",
       "      <td>8744</td>\n",
       "    </tr>\n",
       "    <tr>\n",
       "      <th>melilla</th>\n",
       "      <td>melilla</td>\n",
       "      <td>8745</td>\n",
       "    </tr>\n",
       "  </tbody>\n",
       "</table>\n",
       "</div>"
      ],
      "text/plain": [
       "             geo_limit  geo_id\n",
       "Region                        \n",
       "peninsular  peninsular    8741\n",
       "canarias      canarias    8742\n",
       "baleares      baleares    8743\n",
       "ceuta            ceuta    8744\n",
       "melilla        melilla    8745"
      ]
     },
     "execution_count": 7,
     "metadata": {},
     "output_type": "execute_result"
    }
   ],
   "source": [
    "# Leemos las regiones de ree obtenidas desde (https://www.ree.es/es/apidatos) desde un fichero ubicado en la misma ruta que este notebook\n",
    "region_ree=pd.read_csv('REGION_REE',header=0,index_col='Region')\n",
    "\n",
    "# Me quedo solo con los distintos sistemas electricos existentes\n",
    "region_system=region_ree[region_ree['geo_limit']!='ccaa']\n",
    "\n",
    "region_system"
   ]
  },
  {
   "cell_type": "code",
   "execution_count": 8,
   "metadata": {},
   "outputs": [
    {
     "data": {
      "text/plain": [
       "'melilla'"
      ]
     },
     "execution_count": 8,
     "metadata": {},
     "output_type": "execute_result"
    }
   ],
   "source": [
    "geo_limit=region_system[region_system['geo_id']==8745]['geo_limit']\n",
    "geo_limit[0]"
   ]
  },
  {
   "cell_type": "code",
   "execution_count": 10,
   "metadata": {},
   "outputs": [],
   "source": [
    "# Obtenemos los datos de REE a traves de su API.\n",
    "\n",
    "def lectura_ree_electric_system(d_inicio,d_fin,geo_id):\n",
    "    \n",
    "    # meter esto en una funcion con su try-exception    \n",
    "    \n",
    "    geo_limit=region_system[region_system['geo_id']==geo_id]['geo_limit']\n",
    "    \n",
    "    parametros={'start_date':date_ini,\n",
    "            'end_date':date_end,\n",
    "            'time_trunc':'day',\n",
    "            'geo_trunc':'electric_system',\n",
    "            'geo_limit':geo_limit[0],\n",
    "            'geo_ids':geo_id}\n",
    "    \n",
    "    URL_GEN='https://apidatos.ree.es/es/datos/generacion/estructura-generacion'\n",
    "\n",
    "    ree_gen=requests.get(URL_GEN,params=parametros)\n",
    "    \n",
    "    df_ree=pd.DataFrame()\n",
    "    for i in range(20):\n",
    "        try:\n",
    "            df=pd.json_normalize(ree_gen.json()['included'][i]['attributes'],meta=['title','type'],record_path=['values'])\n",
    "            df['system']=geo_limit[0]\n",
    "            df_ree=df_ree.append(df)\n",
    "        except:\n",
    "            pass #Cuando no hay datos para mas tecnologías\n",
    "    df_ree.reset_index(inplace=True,drop=True)\n",
    "    \n",
    "    return df_ree"
   ]
  },
  {
   "cell_type": "code",
   "execution_count": 11,
   "metadata": {},
   "outputs": [
    {
     "data": {
      "application/vnd.jupyter.widget-view+json": {
       "model_id": "c838f8dcc2f24ca890c6424e020f2dda",
       "version_major": 2,
       "version_minor": 0
      },
      "text/plain": [
       "HBox(children=(IntProgress(value=0, max=5), HTML(value='')))"
      ]
     },
     "metadata": {},
     "output_type": "display_data"
    },
    {
     "name": "stdout",
     "output_type": "stream",
     "text": [
      "\n"
     ]
    },
    {
     "data": {
      "text/html": [
       "<div>\n",
       "<style scoped>\n",
       "    .dataframe tbody tr th:only-of-type {\n",
       "        vertical-align: middle;\n",
       "    }\n",
       "\n",
       "    .dataframe tbody tr th {\n",
       "        vertical-align: top;\n",
       "    }\n",
       "\n",
       "    .dataframe thead th {\n",
       "        text-align: right;\n",
       "    }\n",
       "</style>\n",
       "<table border=\"1\" class=\"dataframe\">\n",
       "  <thead>\n",
       "    <tr style=\"text-align: right;\">\n",
       "      <th></th>\n",
       "      <th>value</th>\n",
       "      <th>percentage</th>\n",
       "      <th>datetime</th>\n",
       "      <th>title</th>\n",
       "      <th>type</th>\n",
       "      <th>system</th>\n",
       "    </tr>\n",
       "  </thead>\n",
       "  <tbody>\n",
       "    <tr>\n",
       "      <th>0</th>\n",
       "      <td>79704.735</td>\n",
       "      <td>0.114638</td>\n",
       "      <td>2020-12-01T00:00:00.000+01:00</td>\n",
       "      <td>Hidráulica</td>\n",
       "      <td>Renovable</td>\n",
       "      <td>peninsular</td>\n",
       "    </tr>\n",
       "    <tr>\n",
       "      <th>1</th>\n",
       "      <td>78110.077</td>\n",
       "      <td>0.100441</td>\n",
       "      <td>2020-12-02T00:00:00.000+01:00</td>\n",
       "      <td>Hidráulica</td>\n",
       "      <td>Renovable</td>\n",
       "      <td>peninsular</td>\n",
       "    </tr>\n",
       "    <tr>\n",
       "      <th>2</th>\n",
       "      <td>90336.334</td>\n",
       "      <td>0.118152</td>\n",
       "      <td>2020-12-03T00:00:00.000+01:00</td>\n",
       "      <td>Hidráulica</td>\n",
       "      <td>Renovable</td>\n",
       "      <td>peninsular</td>\n",
       "    </tr>\n",
       "    <tr>\n",
       "      <th>3</th>\n",
       "      <td>85769.482</td>\n",
       "      <td>0.105608</td>\n",
       "      <td>2020-12-04T00:00:00.000+01:00</td>\n",
       "      <td>Hidráulica</td>\n",
       "      <td>Renovable</td>\n",
       "      <td>peninsular</td>\n",
       "    </tr>\n",
       "    <tr>\n",
       "      <th>4</th>\n",
       "      <td>69258.852</td>\n",
       "      <td>0.092469</td>\n",
       "      <td>2020-12-05T00:00:00.000+01:00</td>\n",
       "      <td>Hidráulica</td>\n",
       "      <td>Renovable</td>\n",
       "      <td>peninsular</td>\n",
       "    </tr>\n",
       "    <tr>\n",
       "      <th>...</th>\n",
       "      <td>...</td>\n",
       "      <td>...</td>\n",
       "      <td>...</td>\n",
       "      <td>...</td>\n",
       "      <td>...</td>\n",
       "      <td>...</td>\n",
       "    </tr>\n",
       "    <tr>\n",
       "      <th>123</th>\n",
       "      <td>544.484</td>\n",
       "      <td>1.000000</td>\n",
       "      <td>2020-12-27T00:00:00.000+01:00</td>\n",
       "      <td>Generación total</td>\n",
       "      <td>Generación total</td>\n",
       "      <td>melilla</td>\n",
       "    </tr>\n",
       "    <tr>\n",
       "      <th>124</th>\n",
       "      <td>568.881</td>\n",
       "      <td>1.000000</td>\n",
       "      <td>2020-12-28T00:00:00.000+01:00</td>\n",
       "      <td>Generación total</td>\n",
       "      <td>Generación total</td>\n",
       "      <td>melilla</td>\n",
       "    </tr>\n",
       "    <tr>\n",
       "      <th>125</th>\n",
       "      <td>585.858</td>\n",
       "      <td>1.000000</td>\n",
       "      <td>2020-12-29T00:00:00.000+01:00</td>\n",
       "      <td>Generación total</td>\n",
       "      <td>Generación total</td>\n",
       "      <td>melilla</td>\n",
       "    </tr>\n",
       "    <tr>\n",
       "      <th>126</th>\n",
       "      <td>589.612</td>\n",
       "      <td>1.000000</td>\n",
       "      <td>2020-12-30T00:00:00.000+01:00</td>\n",
       "      <td>Generación total</td>\n",
       "      <td>Generación total</td>\n",
       "      <td>melilla</td>\n",
       "    </tr>\n",
       "    <tr>\n",
       "      <th>127</th>\n",
       "      <td>23.583</td>\n",
       "      <td>1.000000</td>\n",
       "      <td>2020-12-31T00:00:00.000+01:00</td>\n",
       "      <td>Generación total</td>\n",
       "      <td>Generación total</td>\n",
       "      <td>melilla</td>\n",
       "    </tr>\n",
       "  </tbody>\n",
       "</table>\n",
       "<p>1243 rows × 6 columns</p>\n",
       "</div>"
      ],
      "text/plain": [
       "         value  percentage                       datetime             title  \\\n",
       "0    79704.735    0.114638  2020-12-01T00:00:00.000+01:00        Hidráulica   \n",
       "1    78110.077    0.100441  2020-12-02T00:00:00.000+01:00        Hidráulica   \n",
       "2    90336.334    0.118152  2020-12-03T00:00:00.000+01:00        Hidráulica   \n",
       "3    85769.482    0.105608  2020-12-04T00:00:00.000+01:00        Hidráulica   \n",
       "4    69258.852    0.092469  2020-12-05T00:00:00.000+01:00        Hidráulica   \n",
       "..         ...         ...                            ...               ...   \n",
       "123    544.484    1.000000  2020-12-27T00:00:00.000+01:00  Generación total   \n",
       "124    568.881    1.000000  2020-12-28T00:00:00.000+01:00  Generación total   \n",
       "125    585.858    1.000000  2020-12-29T00:00:00.000+01:00  Generación total   \n",
       "126    589.612    1.000000  2020-12-30T00:00:00.000+01:00  Generación total   \n",
       "127     23.583    1.000000  2020-12-31T00:00:00.000+01:00  Generación total   \n",
       "\n",
       "                 type      system  \n",
       "0           Renovable  peninsular  \n",
       "1           Renovable  peninsular  \n",
       "2           Renovable  peninsular  \n",
       "3           Renovable  peninsular  \n",
       "4           Renovable  peninsular  \n",
       "..                ...         ...  \n",
       "123  Generación total     melilla  \n",
       "124  Generación total     melilla  \n",
       "125  Generación total     melilla  \n",
       "126  Generación total     melilla  \n",
       "127  Generación total     melilla  \n",
       "\n",
       "[1243 rows x 6 columns]"
      ]
     },
     "execution_count": 11,
     "metadata": {},
     "output_type": "execute_result"
    }
   ],
   "source": [
    "df_ree_system=pd.DataFrame()\n",
    "for electric_system in tqdm(region_system['geo_id']):\n",
    "    df_ree_system=df_ree_system.append(lectura_ree_electric_system(date_ini,date_end,electric_system))\n",
    "df_ree_system   "
   ]
  }
 ],
 "metadata": {
  "kernelspec": {
   "display_name": "Python 3",
   "language": "python",
   "name": "python3"
  },
  "language_info": {
   "codemirror_mode": {
    "name": "ipython",
    "version": 3
   },
   "file_extension": ".py",
   "mimetype": "text/x-python",
   "name": "python",
   "nbconvert_exporter": "python",
   "pygments_lexer": "ipython3",
   "version": "3.7.1"
  }
 },
 "nbformat": 4,
 "nbformat_minor": 2
}
