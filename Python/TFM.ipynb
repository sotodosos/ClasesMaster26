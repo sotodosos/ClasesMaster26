{
 "cells": [
  {
   "cell_type": "markdown",
   "metadata": {},
   "source": [
    "# Produccion electrica en base a la metereología\n",
    "\n",
    "La idea principal del trabajo es ser capaces de predecir como va a afectar a que aumenten la produccion electrica de energias renovables las precipitaciones, el viento y las horas de sol.\n",
    "Como las horas de sol y el viento son fenomenos cuya causa efecto es prácticamente inmediato vamos a centrarnos en la produccion de energia hidroelectrica.\n",
    "\n",
    "En base a esto tenemos varias cuestiones que queremos despejar:\n",
    "- Cuanto tarda en notarse en la generación eléctrica de fuentes de energía renovables los fenomenos metereológicos.\n",
    "- Que cantidad de precipitaciones son necesarias para aumentar la generación de energia eléctica.\n",
    "- Existe realmente una relación entre la metereologia y la producción electrica.\n",
    "\n",
    "\n",
    "Como premisas partimos de :\n",
    "- Vamos a considerar solo el poll de energia que proporciona Red Electrica de España (REE)\n",
    "- Vamos a considerar que las empresas no trabajan bajo mala praxis y que intentan optimizar el uso de energias renovables.\n",
    "- Se va a dividir el estudio por provincias, comunidades autonomas y a nivel estatal.\n",
    "\n",
    "Como origenes de datos para el estudio vamos a utilizar los datos proporcionados por:\n",
    "- Información de REE (https://www.ree.es/es/apidatos) obtenida mediante su API.\n",
    "- Datos proporcionados por aemet(https://opendata.aemet.es/centrodedescargas/inicio), vamos a utilizar la libreria  aemet desarrollada por Pablo Moreno (https://pypi.org/project/python-aemet/).\n",
    "\n",
    "Como requisitos para la ejecución del proyecto es necesario la instalación de la libreria python Aemet(pip install python-aemet)\n",
    "\n"
   ]
  },
  {
   "cell_type": "code",
   "execution_count": 11,
   "metadata": {},
   "outputs": [],
   "source": [
    "from aemet import Aemet,Estacion\n",
    "import pandas as pd\n",
    "import numpy as np\n",
    "import scipy as sp\n",
    "import matplotlib.pyplot as plt\n",
    "import json\n",
    "import urllib3\n",
    "\n",
    "# Leemos la clave de la API de AEMET desde un fichero ubicado en la misma ruta que este notebook\n",
    "with open('API_KEY_AEMET','r') as file:\n",
    "    API_KEY_AE=file.read()\n",
    "\n",
    "    "
   ]
  },
  {
   "cell_type": "code",
   "execution_count": 12,
   "metadata": {},
   "outputs": [],
   "source": [
    "# Obtenemos la lista de estaciones de medicion de aemet \n",
    "info_estaciones=Estacion.get_estaciones(API_KEY_AE)\n",
    "\n",
    "# Creamos un objeto Aemet para usar los metodos de la libreria aemet\n",
    "aemet=Aemet(API_KEY_AE)\n"
   ]
  },
  {
   "cell_type": "code",
   "execution_count": 13,
   "metadata": {},
   "outputs": [],
   "source": [
    "# Lectura de datos de AEMET\n",
    "\n",
    "# Lectura de los datos por estacion y fecha (el resultado es una lista de diccionarios (json))\n",
    "\n",
    "id_estaciones=estaciones_prov(Provincia,info_estaciones)\n",
    "\n",
    "vcm=aemet.get_valores_climatologicos_diarios(\"2020-12-01T00:00:00UTC\",\"2020-12-10T00:00:00UTC\",id_estaciones[0])\n",
    "\n",
    "# Pasamos los datos ha dataframes para su procesado\n",
    "\n",
    "wheather_prov=pd.DataFrame(vcm)\n",
    "estaciones=pd.DataFrame(info_estaciones)"
   ]
  },
  {
   "cell_type": "code",
   "execution_count": 27,
   "metadata": {},
   "outputs": [
    {
     "data": {
      "text/plain": [
       "b'{\"data\":{\"type\":\"Balance de energ\\\\u00eda el\\\\u00e9ctrica\",\"id\":\"bal1\",\"attributes\":{\"title\":\"Balance de energ\\\\u00eda el\\\\u00e9ctrica\",\"last-update\":\"2020-01-10T08:15:42.000+01:00\",\"description\":\"Balance el\\\\u00e9ctrico: asignaci\\\\u00f3n de unidades de producci\\\\u00f3n seg\\\\u00fan combustible principal. La producci\\\\u00f3n neta de las instalaciones no renovables e hidr\\\\u00e1ulicas UGH tiene descontados los consumos propios de las instalaciones. En dichos tipos de producci\\\\u00f3n una generaci\\\\u00f3n negativa indica que la electricidad horaria consumida para los usos de las plantas excede la producci\\\\u00f3n horaria de las instalaciones.\"},\"meta\":{\"cache-control\":{\"cache\":\"MISS\"}}},\"included\":[{\"type\":\"Renovable\",\"id\":\"Renovable\",\"attributes\":{\"title\":\"Renovable\",\"last-update\":\"2020-01-10T08:15:21.000+01:00\",\"description\":null,\"magnitude\":null,\"content\":[{\"type\":\"Hidr\\\\u00e1ulica\",\"id\":\"10288\",\"groupId\":\"Renovable\",\"attributes\":{\"title\":\"Hidr\\\\u00e1ulica\",\"description\":null,\"color\":\"#0090d1\",\"type\":\"distinct\",\"magnitude\":null,\"composite\":false,\"last-update\":\"2020-01-10T08:15:21.000+01:00\",\"values\":[{\"value\":5138.993,\"percentage\":0.3746979590562994,\"datetime\":\"2019-01-01T00:00:00.000+01:00\"}],\"total\":5138.993}},{\"type\":\"E\\\\u00f3lica\",\"id\":\"10291\",\"groupId\":\"Renovable\",\"attributes\":{\"title\":\"E\\\\u00f3lica\",\"description\":null,\"color\":\"#6fb114\",\"type\":\"distinct\",\"magnitude\":null,\"composite\":false,\"last-update\":\"2020-01-10T08:15:42.000+01:00\",\"values\":[{\"value\":7603.095,\"percentage\":0.5543623388884076,\"datetime\":\"2019-01-01T00:00:00.000+01:00\"}],\"total\":7603.095}},{\"type\":\"Solar fotovoltaica\",\"id\":\"1458\",\"groupId\":\"Renovable\",\"attributes\":{\"title\":\"Solar fotovoltaica\",\"description\":null,\"color\":\"#e48500\",\"type\":\"distinct\",\"magnitude\":null,\"composite\":false,\"last-update\":\"2019-05-10T08:01:32.000+02:00\",\"values\":[{\"value\":0.181,\"percentage\":1.3197202368088491e-5,\"datetime\":\"2019-01-01T00:00:00.000+01:00\"}],\"total\":0.181}},{\"type\":\"Solar t\\\\u00e9rmica\",\"id\":\"1459\",\"groupId\":\"Renovable\",\"attributes\":{\"title\":\"Solar t\\\\u00e9rmica\",\"description\":null,\"color\":\"#ff0000\",\"type\":\"distinct\",\"magnitude\":null,\"composite\":false,\"last-update\":\"2019-04-15T15:31:59.000+02:00\",\"values\":[{\"value\":31.727,\"percentage\":0.0023133018758693014,\"datetime\":\"2019-01-01T00:00:00.000+01:00\"}],\"total\":31.727}},{\"type\":\"Hidroe\\\\u00f3lica\",\"id\":\"1455\",\"groupId\":\"Renovable\",\"attributes\":{\"title\":\"Hidroe\\\\u00f3lica\",\"description\":null,\"color\":\"#00FFFF\",\"type\":\"distinct\",\"magnitude\":null,\"composite\":false,\"last-update\":\"2019-04-15T15:31:58.000+02:00\",\"values\":[{\"value\":1.267,\"percentage\":9.238041657661944e-5,\"datetime\":\"2019-01-01T00:00:00.000+01:00\"}],\"total\":1.267}},{\"type\":\"Otras renovables\",\"id\":\"10292\",\"groupId\":\"Renovable\",\"attributes\":{\"title\":\"Otras renovables\",\"description\":\"Otras renovables: incluye biog\\\\u00e1s, biomasa, hidr\\\\u00e1ulica marina y geot\\\\u00e9rmica. Los valores de incrementos y a\\\\u00f1o m\\\\u00f3vil incluyen residuos hasta el 31\\\\/12\\\\/2014.\",\"color\":\"#9a5cbc\",\"type\":\"distinct\",\"magnitude\":null,\"composite\":false,\"last-update\":\"2019-04-15T15:32:00.000+02:00\",\"values\":[{\"value\":715.895,\"percentage\":0.05219785187460061,\"datetime\":\"2019-01-01T00:00:00.000+01:00\"}],\"total\":715.895}},{\"type\":\"Residuos renovables\",\"id\":\"10295\",\"groupId\":\"Renovable\",\"attributes\":{\"title\":\"Residuos renovables\",\"description\":\"Residuos renovables : generaci\\\\u00f3n incluida en otras renovables y cogeneraci\\\\u00f3n hasta el 31\\\\/12\\\\/2014.\",\"color\":\"#a0a0a0\",\"type\":\"distinct\",\"magnitude\":null,\"composite\":false,\"last-update\":\"2019-04-15T15:32:00.000+02:00\",\"values\":[{\"value\":223.87,\"percentage\":0.01632297068587829,\"datetime\":\"2019-01-01T00:00:00.000+01:00\"}],\"total\":223.87}},{\"type\":\"Generaci\\\\u00f3n renovable\",\"id\":\"Renovable\",\"groupId\":\"Renovable\",\"attributes\":{\"title\":\"Generaci\\\\u00f3n renovable\",\"description\":null,\"color\":\"#666666\",\"type\":\"Generaci\\\\u00f3n renovable\",\"magnitude\":null,\"composite\":true,\"last-update\":\"2020-01-10T08:15:21.000+01:00\",\"values\":[{\"value\":13715.028000000002,\"percentage\":1,\"datetime\":\"2019-01-01T00:00:00.000+01:00\"}],\"total\":13715.028000000002}}]}},{\"type\":\"No-Renovable\",\"id\":\"No-Renovable\",\"attributes\":{\"title\":\"No-Renovable\",\"last-update\":\"2019-06-12T17:49:29.000+02:00\",\"description\":null,\"magnitude\":null,\"content\":[{\"type\":\"Turbinaci\\\\u00f3n bombeo\",\"id\":\"1445\",\"groupId\":\"No-Renovable\",\"attributes\":{\"title\":\"Turbinaci\\\\u00f3n bombeo\",\"description\":\"Turbinaci\\\\u00f3n de bombeo puro + estimaci\\\\u00f3n de turbinaci\\\\u00f3n de bombeo mixto.\",\"color\":\"#007cf9\",\"type\":\"distinct\",\"magnitude\":null,\"composite\":false,\"last-update\":\"2019-06-12T17:49:29.000+02:00\",\"values\":[{\"value\":-1.285,\"percentage\":4.2611798852280213e-5,\"datetime\":\"2019-01-01T00:00:00.000+01:00\"}],\"total\":-1.285}},{\"type\":\"Nuclear\",\"id\":\"1446\",\"groupId\":\"No-Renovable\",\"attributes\":{\"title\":\"Nuclear\",\"description\":null,\"color\":\"#464394\",\"type\":\"distinct\",\"magnitude\":null,\"composite\":false,\"last-update\":\"2019-04-15T15:31:58.000+02:00\",\"values\":[{\"value\":12093.26,\"percentage\":0.401023784115429,\"datetime\":\"2019-01-01T00:00:00.000+01:00\"}],\"total\":12093.26}},{\"type\":\"Ciclo combinado\",\"id\":\"1454\",\"groupId\":\"No-Renovable\",\"attributes\":{\"title\":\"Ciclo combinado\",\"description\":\"Ciclo combinado: Incluye funcionamiento en ciclo abierto.\",\"color\":\"#ffcc66\",\"type\":\"distinct\",\"magnitude\":null,\"composite\":false,\"last-update\":\"2019-04-15T15:31:58.000+02:00\",\"values\":[{\"value\":6941.435,\"percentage\":0.23018446067406828,\"datetime\":\"2019-01-01T00:00:00.000+01:00\"}],\"total\":6941.435}},{\"type\":\"Carb\\\\u00f3n\",\"id\":\"10289\",\"groupId\":\"No-Renovable\",\"attributes\":{\"title\":\"Carb\\\\u00f3n\",\"description\":null,\"color\":\"#993300\",\"type\":\"distinct\",\"magnitude\":null,\"composite\":false,\"last-update\":\"2020-01-10T08:15:41.000+01:00\",\"values\":[{\"value\":4038.171,\"percentage\":0.13390951780786867,\"datetime\":\"2019-01-01T00:00:00.000+01:00\"}],\"total\":4038.171}},{\"type\":\"Fuel + Gas\",\"id\":\"10290\",\"groupId\":\"No-Renovable\",\"attributes\":{\"title\":\"Fuel + Gas\",\"description\":\"Fuel + Gas:  En el sistema el\\\\u00e9ctrico nacional se incluye la generaci\\\\u00f3n con grupos auxiliares de Baleares.\",\"color\":\"#ba0f16\",\"type\":\"distinct\",\"magnitude\":null,\"composite\":false,\"last-update\":\"2019-04-15T15:31:58.000+02:00\",\"values\":[{\"value\":1232.039,\"percentage\":0.040855562681840055,\"datetime\":\"2019-01-01T00:00:00.000+01:00\"}],\"total\":1232.039}},{\"type\":\"Cogeneraci\\\\u00f3n\",\"id\":\"10293\",\"groupId\":\"No-Renovable\",\"attributes\":{\"title\":\"Cogeneraci\\\\u00f3n\",\"description\":\"Cogeneraci\\\\u00f3n: los valores de incrementos y a\\\\u00f1o m\\\\u00f3vil incluyen residuos hasta el 31\\\\/12\\\\/2014.\",\"color\":\"#cfa2ca\",\"type\":\"distinct\",\"magnitude\":null,\"composite\":false,\"last-update\":\"2019-05-10T08:01:35.000+02:00\",\"values\":[{\"value\":5368.919,\"percentage\":0.178038363021156,\"datetime\":\"2019-01-01T00:00:00.000+01:00\"}],\"total\":5368.919}},{\"type\":\"Residuos no renovables\",\"id\":\"10294\",\"groupId\":\"No-Renovable\",\"attributes\":{\"title\":\"Residuos no renovables\",\"description\":\"Residuos no renovables: generaci\\\\u00f3n incluida en otras renovables y cogeneraci\\\\u00f3n hasta el 31\\\\/12\\\\/2014.\",\"color\":\"#666666\",\"type\":\"distinct\",\"magnitude\":null,\"composite\":false,\"last-update\":\"2019-04-15T15:32:00.000+02:00\",\"values\":[{\"value\":480.858,\"percentage\":0.015945699900785808,\"datetime\":\"2019-01-01T00:00:00.000+01:00\"}],\"total\":480.858}},{\"type\":\"Generaci\\\\u00f3n no renovable\",\"id\":\"No-Renovable\",\"groupId\":\"No-Renovable\",\"attributes\":{\"title\":\"Generaci\\\\u00f3n no renovable\",\"description\":null,\"color\":\"#666666\",\"type\":\"Generaci\\\\u00f3n no renovable\",\"magnitude\":null,\"composite\":true,\"last-update\":\"2019-06-12T17:49:29.000+02:00\",\"values\":[{\"value\":30153.396999999997,\"percentage\":1,\"datetime\":\"2019-01-01T00:00:00.000+01:00\"}],\"total\":30153.396999999997}}]}},{\"type\":\"Demanda\",\"id\":\"Demanda en b.c.\",\"attributes\":{\"title\":\"Demanda\",\"last-update\":\"2019-05-10T08:01:36.000+02:00\",\"description\":\"Demanda corregida: corregidos los efectos de temperatura y laboralidad.\",\"magnitude\":null,\"content\":[{\"type\":\"Consumos en bombeo\",\"id\":\"1472\",\"groupId\":\"Demanda en b.c.\",\"attributes\":{\"title\":\"Consumos en bombeo\",\"description\":null,\"color\":\"#4f81bd\",\"type\":null,\"magnitude\":null,\"composite\":false,\"last-update\":\"2019-05-10T08:01:36.000+02:00\",\"values\":[{\"value\":-95.092,\"percentage\":0.001956029649815524,\"datetime\":\"2019-01-01T00:00:00.000+01:00\"}],\"total\":-95.092}},{\"type\":\"Saldo I. internacionales\",\"id\":\"1474\",\"groupId\":\"Demanda en b.c.\",\"attributes\":{\"title\":\"Saldo I. internacionales\",\"description\":\"Valor positivo: saldo importador; valor negativo: saldo exportador. Los valores de incrementos no se calculan cuando los saldos de intercambios tienen distinto signo.\",\"color\":\"#00608a\",\"type\":null,\"magnitude\":null,\"composite\":false,\"last-update\":\"2019-04-15T15:32:01.000+02:00\",\"values\":[{\"value\":4651.288,\"percentage\":0.09567636854657752,\"datetime\":\"2019-01-01T00:00:00.000+01:00\"}],\"total\":4651.288}},{\"type\":\"Demanda en b.c.\",\"id\":\"Demanda en b.c.\",\"groupId\":\"Demanda en b.c.\",\"attributes\":{\"title\":\"Demanda en b.c.\",\"description\":\"Demanda corregida: corregidos los efectos de temperatura y laboralidad.\",\"color\":\"#666666\",\"type\":\"Demanda en b.c.\",\"magnitude\":null,\"composite\":true,\"last-update\":\"2019-05-10T08:01:36.000+02:00\",\"values\":[{\"value\":48424.621,\"percentage\":1,\"datetime\":\"2019-01-01T00:00:00.000+01:00\"}],\"total\":48424.621}}]}}]}'"
      ]
     },
     "execution_count": 27,
     "metadata": {},
     "output_type": "execute_result"
    }
   ],
   "source": [
    "# Obtenemos los datos de REE a traves de su API.\n",
    "\n",
    "http=urllib3.PoolManager()\n",
    "\n",
    "URL='https://apidatos.ree.es/es/datos/balance/balance-electrico?start_date=2019-01-01T00:00&end_date=2019-01-01T01:00&time_trunc=day'\n",
    "request=http.request('GET',URL)\n",
    "\n",
    "request.data"
   ]
  },
  {
   "cell_type": "code",
   "execution_count": null,
   "metadata": {},
   "outputs": [],
   "source": [
    "# Definimos funciones que vamos a utilizar mas adelante\n",
    "\n",
    "\n",
    "def estaciones_prov (prov,lista_estaciones):\n",
    "    '''Data una provincia y una lista de diccionarios de estaciones de aemet. \n",
    "    Obtiene una lista de los ID de las estaciones de esa provincia.'''\n",
    "    lista_id=[]\n",
    "    for estacion in lista_estaciones:\n",
    "        if estacion['provincia']==prov.upper():\n",
    "            lista_id.append(estacion['indicativo'])\n",
    "    return lista_id\n",
    "\n",
    "help(estaciones_prov)"
   ]
  },
  {
   "cell_type": "code",
   "execution_count": null,
   "metadata": {},
   "outputs": [],
   "source": []
  },
  {
   "cell_type": "code",
   "execution_count": null,
   "metadata": {},
   "outputs": [],
   "source": []
  }
 ],
 "metadata": {
  "kernelspec": {
   "display_name": "Python 3",
   "language": "python",
   "name": "python3"
  },
  "language_info": {
   "codemirror_mode": {
    "name": "ipython",
    "version": 3
   },
   "file_extension": ".py",
   "mimetype": "text/x-python",
   "name": "python",
   "nbconvert_exporter": "python",
   "pygments_lexer": "ipython3",
   "version": "3.7.1"
  }
 },
 "nbformat": 4,
 "nbformat_minor": 2
}
