{
 "cells": [
  {
   "cell_type": "markdown",
   "metadata": {},
   "source": [
    "# Produccion electrica en base a la metereología\n",
    "\n",
    "La idea principal del trabajo es ser capaces de predecir como va a afectar a que aumenten la produccion electrica de energias renovables las precipitaciones, el viento y las horas de sol.\n",
    "Como las horas de sol y el viento son fenomenos cuya causa efecto es prácticamente inmediato vamos a centrarnos en la produccion de energia hidroelectrica.\n",
    "\n",
    "En base a esto tenemos varias cuestiones que queremos despejar:\n",
    "- Cuanto tarda en notarse en la generación eléctrica de fuentes de energía renovables los fenomenos metereológicos.\n",
    "- Que cantidad de precipitaciones son necesarias para aumentar la generación de energia eléctica.\n",
    "- Existe realmente una relación entre la metereologia y la producción electrica.\n",
    "\n",
    "\n",
    "Como premisas partimos de :\n",
    "- Vamos a considerar solo el poll de energia que proporciona Red Electrica de España (REE)\n",
    "- Vamos a considerar que las empresas no trabajan bajo mala praxis y que intentan optimizar el uso de energias renovables.\n",
    "- Se va a dividir el estudio por provincias, comunidades autonomas y a nivel estatal.\n",
    "\n",
    "Como origenes de datos para el estudio vamos a utilizar los datos proporcionados por:\n",
    "- Información de REE (https://www.ree.es/es/apidatos) obtenida mediante su API.\n",
    "- Datos proporcionados por aemet(https://opendata.aemet.es/centrodedescargas/inicio), vamos a utilizar la libreria  aemet desarrollada por Pablo Moreno (https://pypi.org/project/python-aemet/).\n",
    "\n",
    "Como requisitos para la ejecución del proyecto es necesario la instalación de la libreria python Aemet(pip install python-aemet) e instalar la libreria request\n",
    "\n"
   ]
  },
  {
   "cell_type": "code",
   "execution_count": 8,
   "metadata": {},
   "outputs": [],
   "source": [
    "from aemet import Aemet,Estacion\n",
    "import pandas as pd\n",
    "import numpy as np\n",
    "import scipy as sp\n",
    "import matplotlib.pyplot as plt\n",
    "import json\n",
    "import requests\n",
    "import time\n",
    "\n",
    "# Leemos la clave de la API de AEMET desde un fichero ubicado en la misma ruta que este notebook\n",
    "with open('API_KEY_AEMET','r') as file:\n",
    "    API_KEY_AE=file.read()\n",
    "\n",
    "    "
   ]
  },
  {
   "cell_type": "code",
   "execution_count": 9,
   "metadata": {},
   "outputs": [],
   "source": [
    "# Obtenemos la lista de estaciones de medicion de aemet \n",
    "info_estaciones=Estacion.get_estaciones(API_KEY_AE)\n",
    "\n",
    "# Creamos un objeto Aemet para usar los metodos de la libreria aemet\n",
    "aemet=Aemet(API_KEY_AE)\n"
   ]
  },
  {
   "cell_type": "code",
   "execution_count": 10,
   "metadata": {},
   "outputs": [
    {
     "name": "stdout",
     "output_type": "stream",
     "text": [
      "Help on function estaciones_prov in module __main__:\n",
      "\n",
      "estaciones_prov(prov, lista_estaciones)\n",
      "    Dada una provincia y una lista de diccionarios de estaciones de aemet. \n",
      "    Obtiene una lista de los ID de las estaciones de esa provincia.\n",
      "\n",
      "Help on function lectura_dias in module __main__:\n",
      "\n",
      "lectura_dias(date_ini, date_end, estaciones)\n",
      "    Dado un json del objeto Estacion, y fechas de inicio y fin:\n",
      "    Obtenemos los datos climatologicos entre las dos fechas para todas las estaciones de manera diaria\n",
      "    Si la fecha de inicio es anterior a 2016, se cambia a 2016-01-01, para evitar errores.\n",
      "\n",
      "2020-12-22 2020-12-01\n"
     ]
    }
   ],
   "source": [
    "# Lectura de datos de AEMET\n",
    "\n",
    "\n",
    "# Definimos funciones que vamos a utilizar para leer los datos de aement\n",
    "def estaciones_prov (prov,lista_estaciones):\n",
    "    '''Dada una provincia y una lista de diccionarios de estaciones de aemet. \n",
    "    Obtiene una lista de los ID de las estaciones de esa provincia.'''\n",
    "    lista_id=[]\n",
    "    for estacion in lista_estaciones:\n",
    "        if estacion['provincia']==prov.upper():\n",
    "            lista_id.append(estacion['indicativo'])\n",
    "    return lista_id\n",
    "\n",
    "help(estaciones_prov)\n",
    "\n",
    "\n",
    "def lectura_dias(date_ini,date_end,estaciones):\n",
    "    '''Dado un json del objeto Estacion, y fechas de inicio y fin:\n",
    "    Obtenemos los datos climatologicos entre las dos fechas para todas las estaciones de manera diaria\n",
    "    Si la fecha de inicio es anterior a 2016, se cambia a 2016-01-01, para evitar errores.\n",
    "    '''\n",
    "    valores_diarios=[]\n",
    "    if date_ini[0:4]<'2016-01':\n",
    "        date_ini=\"2016-01-01T00:00:00UTC\"\n",
    "    if date_ini>date_end:\n",
    "        print('Valores no válidos, fecha de inicio mayor que la fecha de fin')\n",
    "        return valores_diarios;\n",
    "    for element in estaciones:\n",
    "        try:\n",
    "            valores_estacion=aemet.get_valores_climatologicos_diarios(date_ini,date_end,element['indicativo'])\n",
    "            if type(valores_estacion)!=dict:\n",
    "                valores_diarios.extend(valores_estacion)\n",
    "        except:\n",
    "            time.sleep(0.1) # para evitar errores por nº de lecturas.\n",
    "    return valores_diarios;\n",
    "\n",
    "help(lectura_dias)\n",
    "\n",
    "# Pasamos los datos ha dataframes para su procesado\n",
    "estaciones=pd.DataFrame(info_estaciones)\n",
    "\n",
    "date_ini=\"2020-12-31T00:00:00UTC\"\n",
    "date_end=\"2020-12-31T00:00:00UTC\"\n",
    "\n",
    "wheather=pd.DataFrame(lectura_dias(date_ini,date_end,info_estaciones))\n",
    "\n",
    "print(max(wheather['fecha']),min(wheather['fecha']))\n",
    "\n",
    "\n",
    "#Rellenamos los NaN por 0 para precipitaciones. Y para temperatura los NaN por la termperatura del dia anterior\n"
   ]
  },
  {
   "cell_type": "code",
   "execution_count": 11,
   "metadata": {},
   "outputs": [
    {
     "data": {
      "text/plain": [
       "requests.models.Response"
      ]
     },
     "execution_count": 11,
     "metadata": {},
     "output_type": "execute_result"
    }
   ],
   "source": [
    "# Obtenemos los datos de REE a traves de su API.\n",
    "\n",
    "http=urllib3.PoolManager()\n",
    "\n",
    "URL='https://apidatos.ree.es/es/datos/balance/balance-electrico?start_date=2019-01-01T00:00&end_date=2019-01-01T01:00&time_trunc=day'\n",
    "ree=requests.get(URL)\n",
    "\n",
    "type(ree)\n",
    "\n",
    "\n",
    "#ree=pd.DataFrame(request)\n",
    "\n",
    "# Paso el resultado a str\n",
    "#type(request.data.decode())\n",
    "\n",
    "     \n",
    "# Paso el str a json para poder pasarlo a Dataframe\n",
    "#prueba=json.loads(request.data)\n"
   ]
  },
  {
   "cell_type": "code",
   "execution_count": null,
   "metadata": {},
   "outputs": [],
   "source": []
  },
  {
   "cell_type": "code",
   "execution_count": null,
   "metadata": {},
   "outputs": [],
   "source": []
  },
  {
   "cell_type": "code",
   "execution_count": null,
   "metadata": {},
   "outputs": [],
   "source": []
  }
 ],
 "metadata": {
  "kernelspec": {
   "display_name": "Python 3",
   "language": "python",
   "name": "python3"
  },
  "language_info": {
   "codemirror_mode": {
    "name": "ipython",
    "version": 3
   },
   "file_extension": ".py",
   "mimetype": "text/x-python",
   "name": "python",
   "nbconvert_exporter": "python",
   "pygments_lexer": "ipython3",
   "version": "3.7.1"
  }
 },
 "nbformat": 4,
 "nbformat_minor": 2
}
